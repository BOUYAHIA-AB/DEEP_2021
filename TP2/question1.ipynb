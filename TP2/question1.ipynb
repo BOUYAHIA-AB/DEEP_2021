{
 "cells": [
  {
   "cell_type": "markdown",
   "metadata": {},
   "source": [
    "# Importer les packages nécessaire pour la réalisation de la question 1"
   ]
  },
  {
   "cell_type": "code",
   "execution_count": 72,
   "metadata": {},
   "outputs": [],
   "source": [
    "import os\n",
    "from shutil import copyfile\n",
    "import torch\n",
    "import torch.nn as nn\n",
    "from torchvision.datasets import ImageFolder\n",
    "import torchvision.models as models\n",
    "import torchvision.transforms as T\n",
    "import matplotlib.pyplot as plt\n",
    "from torch.utils.data import Dataset, random_split, DataLoader\n",
    "from question1 import separate_train_test\n",
    "import torch.optim as optim\n",
    "\n",
    "from poutyne import set_seeds, Model, ModelCheckpoint, CSVLogger, ReduceLROnPlateau"
   ]
  },
  {
   "cell_type": "code",
   "execution_count": 73,
   "metadata": {},
   "outputs": [],
   "source": [
    "def get_normalize(use_data = True) :\n",
    "    \n",
    "    \"\"\"calcul la moyenne et l'écart-type d'un jeu de données\n",
    "    \n",
    "    Params : \n",
    "    use data : vaut True si on va calculer la moyenne et l'écart-type à partir du dataset et Flase si on va\n",
    "                retourner la moyenne et l'écart-type de ImageNet\n",
    "    returne : moyenne et l'écart-type \n",
    "    \n",
    "    \"\"\"\n",
    "\n",
    "    if use_data :\n",
    "        train_path = \"./data/train\"\n",
    "        train_data = ImageFolder(train_path, T.Compose([T.Resize([224,224]), T.ToTensor()]))\n",
    "\n",
    "        nb_samples = len(train_data)\n",
    "\n",
    "        loader = DataLoader(\n",
    "            train_data,\n",
    "            batch_size=nb_samples,\n",
    "            num_workers=0,\n",
    "            shuffle=False\n",
    "        )\n",
    "\n",
    "        mean = 0.\n",
    "        std = 0.\n",
    "        for data in loader:\n",
    "            batch_samples = data[0].shape[0]\n",
    "            data = data[0].view(batch_samples, data[0].shape[1], -1)\n",
    "            mean += data.mean(2).sum(0)\n",
    "            std += data.std(2).sum(0)\n",
    "            nb_samples += batch_samples\n",
    "\n",
    "        mean /= nb_samples\n",
    "        std /= nb_samples\n",
    "\n",
    "        normalize = T.Normalize(\n",
    "            mean=mean,\n",
    "            std=std)\n",
    "\n",
    "        return normalize\n",
    "\n",
    "    else :\n",
    "        normalize = T.Normalize(mean=[0.485, 0.456, 0.406],\n",
    "                                     std=[0.229, 0.224, 0.225])\n",
    "        return normalize"
   ]
  },
  {
   "cell_type": "markdown",
   "metadata": {},
   "source": [
    "Séparer les données en test et train en utilsant la méthode separate_train_test() fournie avec l'énoncé"
   ]
  },
  {
   "cell_type": "code",
   "execution_count": 74,
   "metadata": {},
   "outputs": [],
   "source": [
    "dataset_path = \"./data/images\"\n",
    "train_path = \"./data/train\"\n",
    "test_path = \"./data/test\"\n",
    "\n",
    "separate_train_test(dataset_path, train_path, test_path)\n"
   ]
  },
  {
   "cell_type": "code",
   "execution_count": 49,
   "metadata": {},
   "outputs": [],
   "source": [
    "cuda_device = 0\n",
    "device = torch.device(\"cuda:%d\" % cuda_device if torch.cuda.is_available() else \"cpu\")\n",
    "\n",
    "num_classes = 200\n",
    "batch_size = 64\n",
    "learning_rate = 0.01\n",
    "n_epoch = 20"
   ]
  },
  {
   "cell_type": "code",
   "execution_count": 75,
   "metadata": {},
   "outputs": [],
   "source": [
    "def get_callbacks(save_path) :\n",
    "    save_path = save_path \n",
    "    os.makedirs(save_path, exist_ok=True)\n",
    "\n",
    "    best_checkpoint = ModelCheckpoint(os.path.join(save_path, 'best_epoch_{epoch}.ckpt'), monitor='val_acc', \n",
    "                        mode='max', save_best_only=True, restore_best=True, verbose=True)\n",
    "\n",
    "    scheduler = ReduceLROnPlateau(monitor='val_acc', mode='max', patience=3, factor=0.5, verbose=True)\n",
    "\n",
    "    callbacks = [best_checkpoint, scheduler]\n",
    "    \n",
    "    return callbacks"
   ]
  },
  {
   "cell_type": "markdown",
   "metadata": {},
   "source": [
    "# Utiliser les valeurs du dataset d’entraînement pour normaliser les données"
   ]
  },
  {
   "cell_type": "code",
   "execution_count": 76,
   "metadata": {},
   "outputs": [],
   "source": [
    "normalize = get_normalize()\n",
    "\n",
    "train_data = ImageFolder(\n",
    "    train_path,\n",
    "    T.Compose([\n",
    "        T.Resize([224,224]),\n",
    "        T.ToTensor(),\n",
    "        normalize,\n",
    "    ]))\n",
    "\n",
    "test_data = ImageFolder(\n",
    "    test_path,\n",
    "    T.Compose([\n",
    "        T.Resize([224,224]),\n",
    "        T.ToTensor(),\n",
    "        normalize,\n",
    "    ]))\n",
    "\n",
    "train_loader = DataLoader(train_data, batch_size, num_workers=0, shuffle=True)\n",
    "test_loader = DataLoader(test_data, batch_size, num_workers=0)"
   ]
  },
  {
   "cell_type": "markdown",
   "metadata": {},
   "source": [
    "## Initialisation aléatoire par défaut"
   ]
  },
  {
   "cell_type": "code",
   "execution_count": 52,
   "metadata": {},
   "outputs": [],
   "source": [
    "resnet18 = models.resnet18()\n",
    "resnet18.fc = nn.Linear(resnet18.fc.in_features, num_classes)"
   ]
  },
  {
   "cell_type": "code",
   "execution_count": 53,
   "metadata": {},
   "outputs": [
    {
     "name": "stdout",
     "output_type": "stream",
     "text": [
      "\u001b[35mEpoch: \u001b[36m 1/20 \u001b[35mTrain steps: \u001b[36m48 \u001b[35mVal steps: \u001b[36m48 \u001b[32m988.80s \u001b[35mloss:\u001b[94m 5.965289\u001b[35m acc:\u001b[94m 0.560501\u001b[35m val_loss:\u001b[94m 5.273394\u001b[35m val_acc:\u001b[94m 0.560501\u001b[0m\n",
      "Epoch 1: val_acc improved from -inf to 0.56050, saving file to default_init_norm_data/best_epoch_1.ckpt\n",
      "\u001b[35mEpoch: \u001b[36m 2/20 \u001b[35mTrain steps: \u001b[36m48 \u001b[35mVal steps: \u001b[36m48 \u001b[32m1000.78s \u001b[35mloss:\u001b[94m 5.256517\u001b[35m acc:\u001b[94m 0.956149\u001b[35m val_loss:\u001b[94m 5.182164\u001b[35m val_acc:\u001b[94m 1.582591\u001b[0m\n",
      "Epoch 2: val_acc improved from 0.56050 to 1.58259, saving file to default_init_norm_data/best_epoch_2.ckpt\n",
      "\u001b[35mEpoch: \u001b[36m 3/20 \u001b[35mTrain steps: \u001b[36m48 \u001b[35mVal steps: \u001b[36m48 \u001b[32m940.47s \u001b[35mloss:\u001b[94m 5.149596\u001b[35m acc:\u001b[94m 1.615562\u001b[35m val_loss:\u001b[94m 4.992628\u001b[35m val_acc:\u001b[94m 2.505770\u001b[0m\n",
      "Epoch 3: val_acc improved from 1.58259 to 2.50577, saving file to default_init_norm_data/best_epoch_3.ckpt\n",
      "\u001b[35mEpoch: \u001b[36m 4/20 \u001b[35mTrain steps: \u001b[36m48 \u001b[35mVal steps: \u001b[36m48 \u001b[32m1037.12s \u001b[35mloss:\u001b[94m 5.021648\u001b[35m acc:\u001b[94m 1.747445\u001b[35m val_loss:\u001b[94m 4.918985\u001b[35m val_acc:\u001b[94m 2.472799\u001b[0m\n",
      "\u001b[35mEpoch: \u001b[36m 5/20 \u001b[35mTrain steps: \u001b[36m48 \u001b[35mVal steps: \u001b[36m48 \u001b[32m1041.82s \u001b[35mloss:\u001b[94m 4.925502\u001b[35m acc:\u001b[94m 2.011210\u001b[35m val_loss:\u001b[94m 4.791216\u001b[35m val_acc:\u001b[94m 3.198154\u001b[0m\n",
      "Epoch 5: val_acc improved from 2.50577 to 3.19815, saving file to default_init_norm_data/best_epoch_5.ckpt\n",
      "\u001b[35mEpoch: \u001b[36m 6/20 \u001b[35mTrain steps: \u001b[36m48 \u001b[35mVal steps: \u001b[36m48 \u001b[32m1091.14s \u001b[35mloss:\u001b[94m 4.851012\u001b[35m acc:\u001b[94m 2.571711\u001b[35m val_loss:\u001b[94m 4.706280\u001b[35m val_acc:\u001b[94m 3.659743\u001b[0m\n",
      "Epoch 6: val_acc improved from 3.19815 to 3.65974, saving file to default_init_norm_data/best_epoch_6.ckpt\n",
      "\u001b[35mEpoch: \u001b[36m 7/20 \u001b[35mTrain steps: \u001b[36m48 \u001b[35mVal steps: \u001b[36m48 \u001b[32m950.03s \u001b[35mloss:\u001b[94m 4.786619\u001b[35m acc:\u001b[94m 2.901418\u001b[35m val_loss:\u001b[94m 4.685745\u001b[35m val_acc:\u001b[94m 3.824596\u001b[0m\n",
      "Epoch 7: val_acc improved from 3.65974 to 3.82460, saving file to default_init_norm_data/best_epoch_7.ckpt\n",
      "\u001b[35mEpoch: \u001b[36m 8/20 \u001b[35mTrain steps: \u001b[36m48 \u001b[35mVal steps: \u001b[36m48 \u001b[32m946.87s \u001b[35mloss:\u001b[94m 4.731398\u001b[35m acc:\u001b[94m 3.791625\u001b[35m val_loss:\u001b[94m 4.644219\u001b[35m val_acc:\u001b[94m 4.516980\u001b[0m\n",
      "Epoch 8: val_acc improved from 3.82460 to 4.51698, saving file to default_init_norm_data/best_epoch_8.ckpt\n",
      "\u001b[35mEpoch: \u001b[36m 9/20 \u001b[35mTrain steps: \u001b[36m48 \u001b[35mVal steps: \u001b[36m48 \u001b[32m998.22s \u001b[35mloss:\u001b[94m 4.665588\u001b[35m acc:\u001b[94m 3.758655\u001b[35m val_loss:\u001b[94m 4.557475\u001b[35m val_acc:\u001b[94m 4.582921\u001b[0m\n",
      "Epoch 9: val_acc improved from 4.51698 to 4.58292, saving file to default_init_norm_data/best_epoch_9.ckpt\n",
      "\u001b[35mEpoch: \u001b[36m10/20 \u001b[35mTrain steps: \u001b[36m48 \u001b[35mVal steps: \u001b[36m48 \u001b[32m945.04s \u001b[35mloss:\u001b[94m 4.597051\u001b[35m acc:\u001b[94m 4.846686\u001b[35m val_loss:\u001b[94m 4.422488\u001b[35m val_acc:\u001b[94m 5.736894\u001b[0m\n",
      "Epoch 10: val_acc improved from 4.58292 to 5.73689, saving file to default_init_norm_data/best_epoch_10.ckpt\n",
      "\u001b[35mEpoch: \u001b[36m11/20 \u001b[35mTrain steps: \u001b[36m48 \u001b[35mVal steps: \u001b[36m48 \u001b[32m948.61s \u001b[35mloss:\u001b[94m 4.506618\u001b[35m acc:\u001b[94m 5.242334\u001b[35m val_loss:\u001b[94m 4.351727\u001b[35m val_acc:\u001b[94m 8.011869\u001b[0m\n",
      "Epoch 11: val_acc improved from 5.73689 to 8.01187, saving file to default_init_norm_data/best_epoch_11.ckpt\n",
      "\u001b[35mEpoch: \u001b[36m12/20 \u001b[35mTrain steps: \u001b[36m48 \u001b[35mVal steps: \u001b[36m48 \u001b[32m951.21s \u001b[35mloss:\u001b[94m 4.403497\u001b[35m acc:\u001b[94m 6.264425\u001b[35m val_loss:\u001b[94m 4.210703\u001b[35m val_acc:\u001b[94m 9.396637\u001b[0m\n",
      "Epoch 12: val_acc improved from 8.01187 to 9.39664, saving file to default_init_norm_data/best_epoch_12.ckpt\n",
      "\u001b[35mEpoch: \u001b[36m13/20 \u001b[35mTrain steps: \u001b[36m48 \u001b[35mVal steps: \u001b[36m48 \u001b[32m951.43s \u001b[35mloss:\u001b[94m 4.318845\u001b[35m acc:\u001b[94m 7.154632\u001b[35m val_loss:\u001b[94m 4.094564\u001b[35m val_acc:\u001b[94m 9.660402\u001b[0m\n",
      "Epoch 13: val_acc improved from 9.39664 to 9.66040, saving file to default_init_norm_data/best_epoch_13.ckpt\n",
      "\u001b[35mEpoch: \u001b[36m14/20 \u001b[35mTrain steps: \u001b[36m48 \u001b[35mVal steps: \u001b[36m48 \u001b[32m950.91s \u001b[35mloss:\u001b[94m 4.185428\u001b[35m acc:\u001b[94m 8.308605\u001b[35m val_loss:\u001b[94m 3.977261\u001b[35m val_acc:\u001b[94m 11.803495\u001b[0m\n",
      "Epoch 14: val_acc improved from 9.66040 to 11.80349, saving file to default_init_norm_data/best_epoch_14.ckpt\n",
      "\u001b[35mEpoch: \u001b[36m15/20 \u001b[35mTrain steps: \u001b[36m48 \u001b[35mVal steps: \u001b[36m48 \u001b[32m951.33s \u001b[35mloss:\u001b[94m 4.075798\u001b[35m acc:\u001b[94m 9.429608\u001b[35m val_loss:\u001b[94m 4.052504\u001b[35m val_acc:\u001b[94m 10.484669\u001b[0m\n",
      "\u001b[35mEpoch: \u001b[36m16/20 \u001b[35mTrain steps: \u001b[36m48 \u001b[35mVal steps: \u001b[36m48 \u001b[32m951.03s \u001b[35mloss:\u001b[94m 3.933147\u001b[35m acc:\u001b[94m 11.012199\u001b[35m val_loss:\u001b[94m 3.717693\u001b[35m val_acc:\u001b[94m 14.737883\u001b[0m\n",
      "Epoch 16: val_acc improved from 11.80349 to 14.73788, saving file to default_init_norm_data/best_epoch_16.ckpt\n",
      "\u001b[35mEpoch: \u001b[36m17/20 \u001b[35mTrain steps: \u001b[36m48 \u001b[35mVal steps: \u001b[36m48 \u001b[32m951.89s \u001b[35mloss:\u001b[94m 3.802772\u001b[35m acc:\u001b[94m 13.023409\u001b[35m val_loss:\u001b[94m 3.556355\u001b[35m val_acc:\u001b[94m 17.969008\u001b[0m\n",
      "Epoch 17: val_acc improved from 14.73788 to 17.96901, saving file to default_init_norm_data/best_epoch_17.ckpt\n",
      "\u001b[35mEpoch: \u001b[36m18/20 \u001b[35mTrain steps: \u001b[36m48 \u001b[35mVal steps: \u001b[36m48 \u001b[32m949.39s \u001b[35mloss:\u001b[94m 3.653346\u001b[35m acc:\u001b[94m 15.463238\u001b[35m val_loss:\u001b[94m 3.449903\u001b[35m val_acc:\u001b[94m 19.815364\u001b[0m\n",
      "Epoch 18: val_acc improved from 17.96901 to 19.81536, saving file to default_init_norm_data/best_epoch_18.ckpt\n",
      "\u001b[35mEpoch: \u001b[36m19/20 \u001b[35mTrain steps: \u001b[36m48 \u001b[35mVal steps: \u001b[36m48 \u001b[32m931.86s \u001b[35mloss:\u001b[94m 3.479174\u001b[35m acc:\u001b[94m 18.793274\u001b[35m val_loss:\u001b[94m 3.216408\u001b[35m val_acc:\u001b[94m 23.244313\u001b[0m\n",
      "Epoch 19: val_acc improved from 19.81536 to 23.24431, saving file to default_init_norm_data/best_epoch_19.ckpt\n",
      "\u001b[35mEpoch: \u001b[36m20/20 \u001b[35mTrain steps: \u001b[36m48 \u001b[35mVal steps: \u001b[36m48 \u001b[32m930.63s \u001b[35mloss:\u001b[94m 3.308215\u001b[35m acc:\u001b[94m 21.958457\u001b[35m val_loss:\u001b[94m 2.914856\u001b[35m val_acc:\u001b[94m 27.299703\u001b[0m\n",
      "Epoch 20: val_acc improved from 23.24431 to 27.29970, saving file to default_init_norm_data/best_epoch_20.ckpt\n",
      "Restoring model from default_init_norm_data/best_epoch_20.ckpt\n",
      "\u001b[35mTest steps: \u001b[36m47 \u001b[32m222.42s \u001b[35mtest_loss:\u001b[94m 5.239546\u001b[35m test_acc:\u001b[94m 6.266667\u001b[0m                                                 \n"
     ]
    }
   ],
   "source": [
    "optimizer = optim.Adam(resnet18.parameters(), lr=learning_rate)\n",
    "loss_function = nn.CrossEntropyLoss()\n",
    "callbacks = get_callbacks('default_init_norm_data')\n",
    "\n",
    "model = Model(resnet18, optimizer, loss_function, batch_metrics=['accuracy'],  device=device)\n",
    "\n",
    "model.fit_generator(train_loader, train_loader, epochs=n_epoch, callbacks=callbacks)\n",
    "\n",
    "test_loss, test_acc = model.evaluate_generator(test_loader)"
   ]
  },
  {
   "cell_type": "markdown",
   "metadata": {},
   "source": [
    "## Modèle pré-entraîné, mais en gelant tous les paramètres de convolution"
   ]
  },
  {
   "cell_type": "code",
   "execution_count": 54,
   "metadata": {},
   "outputs": [],
   "source": [
    "def freeze_conv(resnet18):\n",
    "    for name, param in resnet18.named_parameters():\n",
    "        if (name.find('conv') != -1) or (name.find('bn') != -1):\n",
    "            param.requires_grad = False"
   ]
  },
  {
   "cell_type": "code",
   "execution_count": 55,
   "metadata": {},
   "outputs": [],
   "source": [
    "resnet18 = models.resnet18(pretrained=True)\n",
    "resnet18.fc = nn.Linear(resnet18.fc.in_features, num_classes)\n",
    "freeze_conv(resnet18)"
   ]
  },
  {
   "cell_type": "code",
   "execution_count": 56,
   "metadata": {},
   "outputs": [
    {
     "name": "stdout",
     "output_type": "stream",
     "text": [
      "\u001b[35mEpoch: \u001b[36m 1/20 \u001b[35mTrain steps: \u001b[36m48 \u001b[35mVal steps: \u001b[36m48 \u001b[32m609.61s \u001b[35mloss:\u001b[94m 5.426759\u001b[35m acc:\u001b[94m 15.397296\u001b[35m val_loss:\u001b[94m 2.662295\u001b[35m val_acc:\u001b[94m 38.806462\u001b[0m\n",
      "Epoch 1: val_acc improved from -inf to 38.80646, saving file to freeze_conv_norm_data/best_epoch_1.ckpt\n",
      "\u001b[35mEpoch: \u001b[36m 2/20 \u001b[35mTrain steps: \u001b[36m48 \u001b[35mVal steps: \u001b[36m48 \u001b[32m610.95s \u001b[35mloss:\u001b[94m 1.703401\u001b[35m acc:\u001b[94m 57.467854\u001b[35m val_loss:\u001b[94m 0.954294\u001b[35m val_acc:\u001b[94m 76.063304\u001b[0m\n",
      "Epoch 2: val_acc improved from 38.80646 to 76.06330, saving file to freeze_conv_norm_data/best_epoch_2.ckpt\n",
      "\u001b[35mEpoch: \u001b[36m 3/20 \u001b[35mTrain steps: \u001b[36m48 \u001b[35mVal steps: \u001b[36m48 \u001b[32m610.54s \u001b[35mloss:\u001b[94m 0.712160\u001b[35m acc:\u001b[94m 80.184636\u001b[35m val_loss:\u001b[94m 0.345212\u001b[35m val_acc:\u001b[94m 91.493571\u001b[0m\n",
      "Epoch 3: val_acc improved from 76.06330 to 91.49357, saving file to freeze_conv_norm_data/best_epoch_3.ckpt\n",
      "\u001b[35mEpoch: \u001b[36m 4/20 \u001b[35mTrain steps: \u001b[36m48 \u001b[35mVal steps: \u001b[36m48 \u001b[32m611.28s \u001b[35mloss:\u001b[94m 0.290794\u001b[35m acc:\u001b[94m 91.955160\u001b[35m val_loss:\u001b[94m 0.180804\u001b[35m val_acc:\u001b[94m 95.483020\u001b[0m\n",
      "Epoch 4: val_acc improved from 91.49357 to 95.48302, saving file to freeze_conv_norm_data/best_epoch_4.ckpt\n",
      "\u001b[35mEpoch: \u001b[36m 5/20 \u001b[35mTrain steps: \u001b[36m48 \u001b[35mVal steps: \u001b[36m48 \u001b[32m611.00s \u001b[35mloss:\u001b[94m 0.155709\u001b[35m acc:\u001b[94m 95.911639\u001b[35m val_loss:\u001b[94m 0.059025\u001b[35m val_acc:\u001b[94m 98.813056\u001b[0m\n",
      "Epoch 5: val_acc improved from 95.48302 to 98.81306, saving file to freeze_conv_norm_data/best_epoch_5.ckpt\n",
      "\u001b[35mEpoch: \u001b[36m 6/20 \u001b[35mTrain steps: \u001b[36m48 \u001b[35mVal steps: \u001b[36m48 \u001b[32m610.36s \u001b[35mloss:\u001b[94m 0.102357\u001b[35m acc:\u001b[94m 98.087702\u001b[35m val_loss:\u001b[94m 0.045196\u001b[35m val_acc:\u001b[94m 99.109792\u001b[0m\n",
      "Epoch 6: val_acc improved from 98.81306 to 99.10979, saving file to freeze_conv_norm_data/best_epoch_6.ckpt\n",
      "\u001b[35mEpoch: \u001b[36m 7/20 \u001b[35mTrain steps: \u001b[36m48 \u001b[35mVal steps: \u001b[36m48 \u001b[32m609.87s \u001b[35mloss:\u001b[94m 0.055767\u001b[35m acc:\u001b[94m 99.010880\u001b[35m val_loss:\u001b[94m 0.022995\u001b[35m val_acc:\u001b[94m 99.505440\u001b[0m\n",
      "Epoch 7: val_acc improved from 99.10979 to 99.50544, saving file to freeze_conv_norm_data/best_epoch_7.ckpt\n",
      "\u001b[35mEpoch: \u001b[36m 8/20 \u001b[35mTrain steps: \u001b[36m48 \u001b[35mVal steps: \u001b[36m48 \u001b[32m612.33s \u001b[35mloss:\u001b[94m 0.033037\u001b[35m acc:\u001b[94m 99.373558\u001b[35m val_loss:\u001b[94m 0.008017\u001b[35m val_acc:\u001b[94m 99.901088\u001b[0m\n",
      "Epoch 8: val_acc improved from 99.50544 to 99.90109, saving file to freeze_conv_norm_data/best_epoch_8.ckpt\n",
      "\u001b[35mEpoch: \u001b[36m 9/20 \u001b[35mTrain steps: \u001b[36m48 \u001b[35mVal steps: \u001b[36m48 \u001b[32m611.61s \u001b[35mloss:\u001b[94m 0.013627\u001b[35m acc:\u001b[94m 99.835147\u001b[35m val_loss:\u001b[94m 0.006772\u001b[35m val_acc:\u001b[94m 99.901088\u001b[0m\n",
      "\u001b[35mEpoch: \u001b[36m10/20 \u001b[35mTrain steps: \u001b[36m48 \u001b[35mVal steps: \u001b[36m48 \u001b[32m611.08s \u001b[35mloss:\u001b[94m 0.007931\u001b[35m acc:\u001b[94m 99.901088\u001b[35m val_loss:\u001b[94m 0.003082\u001b[35m val_acc:\u001b[94m 99.934059\u001b[0m\n",
      "Epoch 10: val_acc improved from 99.90109 to 99.93406, saving file to freeze_conv_norm_data/best_epoch_10.ckpt\n",
      "\u001b[35mEpoch: \u001b[36m11/20 \u001b[35mTrain steps: \u001b[36m48 \u001b[35mVal steps: \u001b[36m48 \u001b[32m610.91s \u001b[35mloss:\u001b[94m 0.005453\u001b[35m acc:\u001b[94m 99.901088\u001b[35m val_loss:\u001b[94m 0.003591\u001b[35m val_acc:\u001b[94m 99.934059\u001b[0m\n",
      "\u001b[35mEpoch: \u001b[36m12/20 \u001b[35mTrain steps: \u001b[36m48 \u001b[35mVal steps: \u001b[36m48 \u001b[32m611.57s \u001b[35mloss:\u001b[94m 0.006621\u001b[35m acc:\u001b[94m 99.934059\u001b[35m val_loss:\u001b[94m 0.002905\u001b[35m val_acc:\u001b[94m 99.934059\u001b[0m\n",
      "\u001b[35mEpoch: \u001b[36m13/20 \u001b[35mTrain steps: \u001b[36m48 \u001b[35mVal steps: \u001b[36m48 \u001b[32m610.92s \u001b[35mloss:\u001b[94m 0.004414\u001b[35m acc:\u001b[94m 99.934059\u001b[35m val_loss:\u001b[94m 0.002910\u001b[35m val_acc:\u001b[94m 99.934059\u001b[0m\n",
      "\u001b[35mEpoch: \u001b[36m14/20 \u001b[35mTrain steps: \u001b[36m48 \u001b[35mVal steps: \u001b[36m48 \u001b[32m612.47s \u001b[35mloss:\u001b[94m 0.004760\u001b[35m acc:\u001b[94m 99.901088\u001b[35m val_loss:\u001b[94m 0.003012\u001b[35m val_acc:\u001b[94m 99.934059\u001b[0m\n",
      "Epoch    14: reducing learning rate of group 0 to 5.0000e-03.\n",
      "\u001b[35mEpoch: \u001b[36m15/20 \u001b[35mTrain steps: \u001b[36m48 \u001b[35mVal steps: \u001b[36m48 \u001b[32m613.34s \u001b[35mloss:\u001b[94m 0.004213\u001b[35m acc:\u001b[94m 99.934059\u001b[35m val_loss:\u001b[94m 0.002065\u001b[35m val_acc:\u001b[94m 99.934059\u001b[0m\n",
      "\u001b[35mEpoch: \u001b[36m16/20 \u001b[35mTrain steps: \u001b[36m48 \u001b[35mVal steps: \u001b[36m48 \u001b[32m612.40s \u001b[35mloss:\u001b[94m 0.003532\u001b[35m acc:\u001b[94m 99.868117\u001b[35m val_loss:\u001b[94m 0.002054\u001b[35m val_acc:\u001b[94m 99.934059\u001b[0m\n",
      "\u001b[35mEpoch: \u001b[36m17/20 \u001b[35mTrain steps: \u001b[36m48 \u001b[35mVal steps: \u001b[36m48 \u001b[32m612.33s \u001b[35mloss:\u001b[94m 0.002717\u001b[35m acc:\u001b[94m 99.934059\u001b[35m val_loss:\u001b[94m 0.001787\u001b[35m val_acc:\u001b[94m 99.934059\u001b[0m\n",
      "\u001b[35mEpoch: \u001b[36m18/20 \u001b[35mTrain steps: \u001b[36m48 \u001b[35mVal steps: \u001b[36m48 \u001b[32m612.68s \u001b[35mloss:\u001b[94m 0.003356\u001b[35m acc:\u001b[94m 99.901088\u001b[35m val_loss:\u001b[94m 0.001957\u001b[35m val_acc:\u001b[94m 99.934059\u001b[0m\n",
      "Epoch    18: reducing learning rate of group 0 to 2.5000e-03.\n",
      "\u001b[35mEpoch: \u001b[36m19/20 \u001b[35mTrain steps: \u001b[36m48 \u001b[35mVal steps: \u001b[36m48 \u001b[32m613.58s \u001b[35mloss:\u001b[94m 0.002859\u001b[35m acc:\u001b[94m 99.868117\u001b[35m val_loss:\u001b[94m 0.001716\u001b[35m val_acc:\u001b[94m 99.934059\u001b[0m\n",
      "\u001b[35mEpoch: \u001b[36m20/20 \u001b[35mTrain steps: \u001b[36m48 \u001b[35mVal steps: \u001b[36m48 \u001b[32m612.99s \u001b[35mloss:\u001b[94m 0.002601\u001b[35m acc:\u001b[94m 99.934059\u001b[35m val_loss:\u001b[94m 0.001741\u001b[35m val_acc:\u001b[94m 99.934059\u001b[0m\n",
      "Restoring model from freeze_conv_norm_data/best_epoch_10.ckpt\n",
      "\u001b[35mTest steps: \u001b[36m47 \u001b[32m225.64s \u001b[35mtest_loss:\u001b[94m 2.559353\u001b[35m test_acc:\u001b[94m 47.233333\u001b[0m                                                \n"
     ]
    }
   ],
   "source": [
    "optimizer = optim.Adam(resnet18.parameters(), lr=learning_rate)\n",
    "loss_function = nn.CrossEntropyLoss()\n",
    "callbacks = get_callbacks('freeze_conv_norm_data')\n",
    "\n",
    "model = Model(resnet18, optimizer, loss_function, batch_metrics=['accuracy'],  device=device)\n",
    "\n",
    "model.fit_generator(train_loader, train_loader, epochs=n_epoch, callbacks=callbacks)\n",
    "\n",
    "test_loss, test_acc = model.evaluate_generator(test_loader)"
   ]
  },
  {
   "cell_type": "markdown",
   "metadata": {},
   "source": [
    "## Modèle pré-entraîné, mais en gelant uniquement les paramètres dans \"layer1\"."
   ]
  },
  {
   "cell_type": "code",
   "execution_count": 57,
   "metadata": {},
   "outputs": [],
   "source": [
    "def freeze_layer1(resnet18):\n",
    "    for name, param in resnet18.named_parameters():\n",
    "        if name.startswith('layer1'):\n",
    "            param.requires_grad = False      "
   ]
  },
  {
   "cell_type": "code",
   "execution_count": 58,
   "metadata": {},
   "outputs": [],
   "source": [
    "resnet18 = models.resnet18(pretrained=True)\n",
    "resnet18.fc = nn.Linear(resnet18.fc.in_features, num_classes)\n",
    "freeze_layer1(resnet18)"
   ]
  },
  {
   "cell_type": "code",
   "execution_count": 59,
   "metadata": {},
   "outputs": [
    {
     "name": "stdout",
     "output_type": "stream",
     "text": [
      "\u001b[35mEpoch: \u001b[36m 1/20 \u001b[35mTrain steps: \u001b[36m48 \u001b[35mVal steps: \u001b[36m48 \u001b[32m896.63s \u001b[35mloss:\u001b[94m 6.491557\u001b[35m acc:\u001b[94m 0.791296\u001b[35m val_loss:\u001b[94m 5.421585\u001b[35m val_acc:\u001b[94m 0.791296\u001b[0m\n",
      "Epoch 1: val_acc improved from -inf to 0.79130, saving file to freeze_layer1_norm_data/best_epoch_1.ckpt\n",
      "\u001b[35mEpoch: \u001b[36m 2/20 \u001b[35mTrain steps: \u001b[36m48 \u001b[35mVal steps: \u001b[36m48 \u001b[32m893.45s \u001b[35mloss:\u001b[94m 5.344504\u001b[35m acc:\u001b[94m 0.494560\u001b[35m val_loss:\u001b[94m 5.243628\u001b[35m val_acc:\u001b[94m 0.890208\u001b[0m\n",
      "Epoch 2: val_acc improved from 0.79130 to 0.89021, saving file to freeze_layer1_norm_data/best_epoch_2.ckpt\n",
      "\u001b[35mEpoch: \u001b[36m 3/20 \u001b[35mTrain steps: \u001b[36m48 \u001b[35mVal steps: \u001b[36m48 \u001b[32m892.48s \u001b[35mloss:\u001b[94m 5.219238\u001b[35m acc:\u001b[94m 0.989120\u001b[35m val_loss:\u001b[94m 5.144088\u001b[35m val_acc:\u001b[94m 1.351797\u001b[0m\n",
      "Epoch 3: val_acc improved from 0.89021 to 1.35180, saving file to freeze_layer1_norm_data/best_epoch_3.ckpt\n",
      "\u001b[35mEpoch: \u001b[36m 4/20 \u001b[35mTrain steps: \u001b[36m48 \u001b[35mVal steps: \u001b[36m48 \u001b[32m894.67s \u001b[35mloss:\u001b[94m 5.131808\u001b[35m acc:\u001b[94m 1.351797\u001b[35m val_loss:\u001b[94m 5.017112\u001b[35m val_acc:\u001b[94m 1.879327\u001b[0m\n",
      "Epoch 4: val_acc improved from 1.35180 to 1.87933, saving file to freeze_layer1_norm_data/best_epoch_4.ckpt\n",
      "\u001b[35mEpoch: \u001b[36m 5/20 \u001b[35mTrain steps: \u001b[36m48 \u001b[35mVal steps: \u001b[36m48 \u001b[32m896.06s \u001b[35mloss:\u001b[94m 5.060400\u001b[35m acc:\u001b[94m 1.285856\u001b[35m val_loss:\u001b[94m 4.955073\u001b[35m val_acc:\u001b[94m 2.340917\u001b[0m\n",
      "Epoch 5: val_acc improved from 1.87933 to 2.34092, saving file to freeze_layer1_norm_data/best_epoch_5.ckpt\n",
      "\u001b[35mEpoch: \u001b[36m 6/20 \u001b[35mTrain steps: \u001b[36m48 \u001b[35mVal steps: \u001b[36m48 \u001b[32m894.83s \u001b[35mloss:\u001b[94m 5.005991\u001b[35m acc:\u001b[94m 1.450709\u001b[35m val_loss:\u001b[94m 4.937878\u001b[35m val_acc:\u001b[94m 1.945269\u001b[0m\n",
      "\u001b[35mEpoch: \u001b[36m 7/20 \u001b[35mTrain steps: \u001b[36m48 \u001b[35mVal steps: \u001b[36m48 \u001b[32m894.46s \u001b[35mloss:\u001b[94m 4.923872\u001b[35m acc:\u001b[94m 1.879327\u001b[35m val_loss:\u001b[94m 4.806886\u001b[35m val_acc:\u001b[94m 3.165183\u001b[0m\n",
      "Epoch 7: val_acc improved from 2.34092 to 3.16518, saving file to freeze_layer1_norm_data/best_epoch_7.ckpt\n",
      "\u001b[35mEpoch: \u001b[36m 8/20 \u001b[35mTrain steps: \u001b[36m48 \u001b[35mVal steps: \u001b[36m48 \u001b[32m898.01s \u001b[35mloss:\u001b[94m 4.852650\u001b[35m acc:\u001b[94m 2.110122\u001b[35m val_loss:\u001b[94m 4.734508\u001b[35m val_acc:\u001b[94m 2.736564\u001b[0m\n",
      "\u001b[35mEpoch: \u001b[36m 9/20 \u001b[35mTrain steps: \u001b[36m48 \u001b[35mVal steps: \u001b[36m48 \u001b[32m897.83s \u001b[35mloss:\u001b[94m 4.783808\u001b[35m acc:\u001b[94m 2.802506\u001b[35m val_loss:\u001b[94m 4.667616\u001b[35m val_acc:\u001b[94m 4.385097\u001b[0m\n",
      "Epoch 9: val_acc improved from 3.16518 to 4.38510, saving file to freeze_layer1_norm_data/best_epoch_9.ckpt\n",
      "\u001b[35mEpoch: \u001b[36m10/20 \u001b[35mTrain steps: \u001b[36m48 \u001b[35mVal steps: \u001b[36m48 \u001b[32m901.14s \u001b[35mloss:\u001b[94m 4.713886\u001b[35m acc:\u001b[94m 3.758655\u001b[35m val_loss:\u001b[94m 4.668900\u001b[35m val_acc:\u001b[94m 3.989449\u001b[0m\n",
      "\u001b[35mEpoch: \u001b[36m11/20 \u001b[35mTrain steps: \u001b[36m48 \u001b[35mVal steps: \u001b[36m48 \u001b[32m897.67s \u001b[35mloss:\u001b[94m 4.610580\u001b[35m acc:\u001b[94m 3.593802\u001b[35m val_loss:\u001b[94m 4.517368\u001b[35m val_acc:\u001b[94m 5.077481\u001b[0m\n",
      "Epoch 11: val_acc improved from 4.38510 to 5.07748, saving file to freeze_layer1_norm_data/best_epoch_11.ckpt\n",
      "\u001b[35mEpoch: \u001b[36m12/20 \u001b[35mTrain steps: \u001b[36m48 \u001b[35mVal steps: \u001b[36m48 \u001b[32m903.38s \u001b[35mloss:\u001b[94m 4.536649\u001b[35m acc:\u001b[94m 4.912628\u001b[35m val_loss:\u001b[94m 4.449750\u001b[35m val_acc:\u001b[94m 6.462249\u001b[0m\n",
      "Epoch 12: val_acc improved from 5.07748 to 6.46225, saving file to freeze_layer1_norm_data/best_epoch_12.ckpt\n",
      "\u001b[35mEpoch: \u001b[36m13/20 \u001b[35mTrain steps: \u001b[36m48 \u001b[35mVal steps: \u001b[36m48 \u001b[32m907.06s \u001b[35mloss:\u001b[94m 4.421614\u001b[35m acc:\u001b[94m 5.440158\u001b[35m val_loss:\u001b[94m 4.202489\u001b[35m val_acc:\u001b[94m 7.616222\u001b[0m\n",
      "Epoch 13: val_acc improved from 6.46225 to 7.61622, saving file to freeze_layer1_norm_data/best_epoch_13.ckpt\n",
      "\u001b[35mEpoch: \u001b[36m14/20 \u001b[35mTrain steps: \u001b[36m48 \u001b[35mVal steps: \u001b[36m48 \u001b[32m922.28s \u001b[35mloss:\u001b[94m 4.322562\u001b[35m acc:\u001b[94m 6.330366\u001b[35m val_loss:\u001b[94m 4.192380\u001b[35m val_acc:\u001b[94m 7.748104\u001b[0m\n",
      "Epoch 14: val_acc improved from 7.61622 to 7.74810, saving file to freeze_layer1_norm_data/best_epoch_14.ckpt\n",
      "\u001b[35mEpoch: \u001b[36m15/20 \u001b[35mTrain steps: \u001b[36m48 \u001b[35mVal steps: \u001b[36m48 \u001b[32m918.92s \u001b[35mloss:\u001b[94m 4.180394\u001b[35m acc:\u001b[94m 7.253544\u001b[35m val_loss:\u001b[94m 4.087314\u001b[35m val_acc:\u001b[94m 8.077811\u001b[0m\n",
      "Epoch 15: val_acc improved from 7.74810 to 8.07781, saving file to freeze_layer1_norm_data/best_epoch_15.ckpt\n",
      "\u001b[35mEpoch: \u001b[36m16/20 \u001b[35mTrain steps: \u001b[36m48 \u001b[35mVal steps: \u001b[36m48 \u001b[32m896.25s \u001b[35mloss:\u001b[94m 4.092991\u001b[35m acc:\u001b[94m 8.374547\u001b[35m val_loss:\u001b[94m 4.172253\u001b[35m val_acc:\u001b[94m 9.132872\u001b[0m\n",
      "Epoch 16: val_acc improved from 8.07781 to 9.13287, saving file to freeze_layer1_norm_data/best_epoch_16.ckpt\n",
      "\u001b[35mEpoch: \u001b[36m17/20 \u001b[35mTrain steps: \u001b[36m48 \u001b[35mVal steps: \u001b[36m48 \u001b[32m888.61s \u001b[35mloss:\u001b[94m 3.971686\u001b[35m acc:\u001b[94m 10.187933\u001b[35m val_loss:\u001b[94m 3.703392\u001b[35m val_acc:\u001b[94m 13.880646\u001b[0m\n",
      "Epoch 17: val_acc improved from 9.13287 to 13.88065, saving file to freeze_layer1_norm_data/best_epoch_17.ckpt\n",
      "\u001b[35mEpoch: \u001b[36m18/20 \u001b[35mTrain steps: \u001b[36m48 \u001b[35mVal steps: \u001b[36m48 \u001b[32m886.21s \u001b[35mloss:\u001b[94m 3.844670\u001b[35m acc:\u001b[94m 10.979228\u001b[35m val_loss:\u001b[94m 3.621600\u001b[35m val_acc:\u001b[94m 14.408177\u001b[0m\n",
      "Epoch 18: val_acc improved from 13.88065 to 14.40818, saving file to freeze_layer1_norm_data/best_epoch_18.ckpt\n",
      "\u001b[35mEpoch: \u001b[36m19/20 \u001b[35mTrain steps: \u001b[36m48 \u001b[35mVal steps: \u001b[36m48 \u001b[32m881.19s \u001b[35mloss:\u001b[94m 3.724622\u001b[35m acc:\u001b[94m 12.858556\u001b[35m val_loss:\u001b[94m 3.543166\u001b[35m val_acc:\u001b[94m 16.815035\u001b[0m\n",
      "Epoch 19: val_acc improved from 14.40818 to 16.81503, saving file to freeze_layer1_norm_data/best_epoch_19.ckpt\n",
      "\u001b[35mEpoch: \u001b[36m20/20 \u001b[35mTrain steps: \u001b[36m48 \u001b[35mVal steps: \u001b[36m48 \u001b[32m888.35s \u001b[35mloss:\u001b[94m 3.598620\u001b[35m acc:\u001b[94m 15.331355\u001b[35m val_loss:\u001b[94m 3.815594\u001b[35m val_acc:\u001b[94m 14.770854\u001b[0m\n",
      "Restoring model from freeze_layer1_norm_data/best_epoch_19.ckpt\n",
      "\u001b[35mTest steps: \u001b[36m47 \u001b[32m220.76s \u001b[35mtest_loss:\u001b[94m 4.847241\u001b[35m test_acc:\u001b[94m 5.866667\u001b[0m                                                 \n"
     ]
    }
   ],
   "source": [
    "optimizer = optim.Adam(resnet18.parameters(), lr=learning_rate)\n",
    "loss_function = nn.CrossEntropyLoss()\n",
    "callbacks = get_callbacks('freeze_layer1_norm_data')\n",
    "\n",
    "model = Model(resnet18, optimizer, loss_function, batch_metrics=['accuracy'],  device=device)\n",
    "\n",
    "model.fit_generator(train_loader, train_loader, epochs=n_epoch, callbacks=callbacks)\n",
    "\n",
    "test_loss, test_acc = model.evaluate_generator(test_loader)"
   ]
  },
  {
   "cell_type": "markdown",
   "metadata": {},
   "source": [
    "## modèle pré-entraîné, mais en laissant tous les paramètres se faire ajuster par backprop"
   ]
  },
  {
   "cell_type": "code",
   "execution_count": 77,
   "metadata": {},
   "outputs": [],
   "source": [
    "resnet18 = models.resnet18(pretrained=True)\n",
    "resnet18.fc = nn.Linear(resnet18.fc.in_features, num_classes)"
   ]
  },
  {
   "cell_type": "code",
   "execution_count": 78,
   "metadata": {},
   "outputs": [
    {
     "name": "stdout",
     "output_type": "stream",
     "text": [
      "\u001b[35mEpoch: \u001b[36m 1/20 \u001b[35mTrain steps: \u001b[36m48 \u001b[35mVal steps: \u001b[36m48 \u001b[32m959.66s \u001b[35mloss:\u001b[94m 6.317790\u001b[35m acc:\u001b[94m 0.593472\u001b[35m val_loss:\u001b[94m 15.611239\u001b[35m val_acc:\u001b[94m 0.494560\u001b[0m\n",
      "Epoch 1: val_acc improved from -inf to 0.49456, saving file to no_freeze_norm_data/best_epoch_1.ckpt\n",
      "\u001b[35mEpoch: \u001b[36m 2/20 \u001b[35mTrain steps: \u001b[36m48 \u001b[35mVal steps: \u001b[36m48 \u001b[32m924.70s \u001b[35mloss:\u001b[94m 5.319777\u001b[35m acc:\u001b[94m 1.153973\u001b[35m val_loss:\u001b[94m 5.156312\u001b[35m val_acc:\u001b[94m 1.351797\u001b[0m\n",
      "Epoch 2: val_acc improved from 0.49456 to 1.35180, saving file to no_freeze_norm_data/best_epoch_2.ckpt\n",
      "\u001b[35mEpoch: \u001b[36m 3/20 \u001b[35mTrain steps: \u001b[36m48 \u001b[35mVal steps: \u001b[36m48 \u001b[32m926.21s \u001b[35mloss:\u001b[94m 5.158055\u001b[35m acc:\u001b[94m 0.989120\u001b[35m val_loss:\u001b[94m 5.210630\u001b[35m val_acc:\u001b[94m 1.055061\u001b[0m\n",
      "\u001b[35mEpoch: \u001b[36m 4/20 \u001b[35mTrain steps: \u001b[36m48 \u001b[35mVal steps: \u001b[36m48 \u001b[32m927.75s \u001b[35mloss:\u001b[94m 5.072858\u001b[35m acc:\u001b[94m 1.549621\u001b[35m val_loss:\u001b[94m 4.974369\u001b[35m val_acc:\u001b[94m 2.406858\u001b[0m\n",
      "Epoch 4: val_acc improved from 1.35180 to 2.40686, saving file to no_freeze_norm_data/best_epoch_4.ckpt\n",
      "\u001b[35mEpoch: \u001b[36m 5/20 \u001b[35mTrain steps: \u001b[36m48 \u001b[35mVal steps: \u001b[36m48 \u001b[32m929.22s \u001b[35mloss:\u001b[94m 5.011436\u001b[35m acc:\u001b[94m 2.011210\u001b[35m val_loss:\u001b[94m 4.970963\u001b[35m val_acc:\u001b[94m 2.505770\u001b[0m\n",
      "Epoch 5: val_acc improved from 2.40686 to 2.50577, saving file to no_freeze_norm_data/best_epoch_5.ckpt\n",
      "\u001b[35mEpoch: \u001b[36m 6/20 \u001b[35mTrain steps: \u001b[36m48 \u001b[35mVal steps: \u001b[36m48 \u001b[32m930.32s \u001b[35mloss:\u001b[94m 4.944607\u001b[35m acc:\u001b[94m 1.978239\u001b[35m val_loss:\u001b[94m 4.829982\u001b[35m val_acc:\u001b[94m 3.132212\u001b[0m\n",
      "Epoch 6: val_acc improved from 2.50577 to 3.13221, saving file to no_freeze_norm_data/best_epoch_6.ckpt\n",
      "\u001b[35mEpoch: \u001b[36m 7/20 \u001b[35mTrain steps: \u001b[36m48 \u001b[35mVal steps: \u001b[36m48 \u001b[32m931.25s \u001b[35mloss:\u001b[94m 4.881900\u001b[35m acc:\u001b[94m 2.274975\u001b[35m val_loss:\u001b[94m 4.781629\u001b[35m val_acc:\u001b[94m 2.769535\u001b[0m\n",
      "\u001b[35mEpoch: \u001b[36m 8/20 \u001b[35mTrain steps: \u001b[36m48 \u001b[35mVal steps: \u001b[36m48 \u001b[32m930.93s \u001b[35mloss:\u001b[94m 4.812937\u001b[35m acc:\u001b[94m 2.637652\u001b[35m val_loss:\u001b[94m 4.704171\u001b[35m val_acc:\u001b[94m 3.593802\u001b[0m\n",
      "Epoch 8: val_acc improved from 3.13221 to 3.59380, saving file to no_freeze_norm_data/best_epoch_8.ckpt\n",
      "\u001b[35mEpoch: \u001b[36m 9/20 \u001b[35mTrain steps: \u001b[36m48 \u001b[35mVal steps: \u001b[36m48 \u001b[32m932.71s \u001b[35mloss:\u001b[94m 4.762091\u001b[35m acc:\u001b[94m 2.538741\u001b[35m val_loss:\u001b[94m 4.627028\u001b[35m val_acc:\u001b[94m 4.418068\u001b[0m\n",
      "Epoch 9: val_acc improved from 3.59380 to 4.41807, saving file to no_freeze_norm_data/best_epoch_9.ckpt\n",
      "\u001b[35mEpoch: \u001b[36m10/20 \u001b[35mTrain steps: \u001b[36m48 \u001b[35mVal steps: \u001b[36m48 \u001b[32m931.49s \u001b[35mloss:\u001b[94m 4.679147\u001b[35m acc:\u001b[94m 3.494890\u001b[35m val_loss:\u001b[94m 4.589258\u001b[35m val_acc:\u001b[94m 4.484009\u001b[0m\n",
      "Epoch 10: val_acc improved from 4.41807 to 4.48401, saving file to no_freeze_norm_data/best_epoch_10.ckpt\n",
      "\u001b[35mEpoch: \u001b[36m11/20 \u001b[35mTrain steps: \u001b[36m48 \u001b[35mVal steps: \u001b[36m48 \u001b[32m933.04s \u001b[35mloss:\u001b[94m 4.618564\u001b[35m acc:\u001b[94m 3.857567\u001b[35m val_loss:\u001b[94m 4.534159\u001b[35m val_acc:\u001b[94m 5.143422\u001b[0m\n",
      "Epoch 11: val_acc improved from 4.48401 to 5.14342, saving file to no_freeze_norm_data/best_epoch_11.ckpt\n",
      "\u001b[35mEpoch: \u001b[36m12/20 \u001b[35mTrain steps: \u001b[36m48 \u001b[35mVal steps: \u001b[36m48 \u001b[32m932.43s \u001b[35mloss:\u001b[94m 4.593852\u001b[35m acc:\u001b[94m 3.758655\u001b[35m val_loss:\u001b[94m 4.473129\u001b[35m val_acc:\u001b[94m 5.835806\u001b[0m\n",
      "Epoch 12: val_acc improved from 5.14342 to 5.83581, saving file to no_freeze_norm_data/best_epoch_12.ckpt\n",
      "\u001b[35mEpoch: \u001b[36m13/20 \u001b[35mTrain steps: \u001b[36m48 \u001b[35mVal steps: \u001b[36m48 \u001b[32m937.05s \u001b[35mloss:\u001b[94m 4.519283\u001b[35m acc:\u001b[94m 4.945598\u001b[35m val_loss:\u001b[94m 4.435881\u001b[35m val_acc:\u001b[94m 5.901747\u001b[0m\n",
      "Epoch 13: val_acc improved from 5.83581 to 5.90175, saving file to no_freeze_norm_data/best_epoch_13.ckpt\n",
      "\u001b[35mEpoch: \u001b[36m14/20 \u001b[35mTrain steps: \u001b[36m48 \u001b[35mVal steps: \u001b[36m48 \u001b[32m941.06s \u001b[35mloss:\u001b[94m 4.474697\u001b[35m acc:\u001b[94m 5.176393\u001b[35m val_loss:\u001b[94m 4.292720\u001b[35m val_acc:\u001b[94m 8.242664\u001b[0m\n",
      "Epoch 14: val_acc improved from 5.90175 to 8.24266, saving file to no_freeze_norm_data/best_epoch_14.ckpt\n",
      "\u001b[35mEpoch: \u001b[36m15/20 \u001b[35mTrain steps: \u001b[36m48 \u001b[35mVal steps: \u001b[36m48 \u001b[32m977.09s \u001b[35mloss:\u001b[94m 4.370736\u001b[35m acc:\u001b[94m 6.066601\u001b[35m val_loss:\u001b[94m 4.311078\u001b[35m val_acc:\u001b[94m 6.594131\u001b[0m\n",
      "\u001b[35mEpoch: \u001b[36m16/20 \u001b[35mTrain steps: \u001b[36m48 \u001b[35mVal steps: \u001b[36m48 \u001b[32m1033.38s \u001b[35mloss:\u001b[94m 4.327607\u001b[35m acc:\u001b[94m 7.484339\u001b[35m val_loss:\u001b[94m 4.167272\u001b[35m val_acc:\u001b[94m 9.297725\u001b[0m\n",
      "Epoch 16: val_acc improved from 8.24266 to 9.29773, saving file to no_freeze_norm_data/best_epoch_16.ckpt\n",
      "\u001b[35mEpoch: \u001b[36m17/20 \u001b[35mTrain steps: \u001b[36m48 \u001b[35mVal steps: \u001b[36m48 \u001b[32m931.20s \u001b[35mloss:\u001b[94m 4.227345\u001b[35m acc:\u001b[94m 7.879987\u001b[35m val_loss:\u001b[94m 4.151102\u001b[35m val_acc:\u001b[94m 9.165842\u001b[0m\n",
      "\u001b[35mEpoch: \u001b[36m18/20 \u001b[35mTrain steps: \u001b[36m48 \u001b[35mVal steps: \u001b[36m48 \u001b[32m932.40s \u001b[35mloss:\u001b[94m 4.139985\u001b[35m acc:\u001b[94m 9.000989\u001b[35m val_loss:\u001b[94m 3.991208\u001b[35m val_acc:\u001b[94m 10.550610\u001b[0m\n",
      "Epoch 18: val_acc improved from 9.29773 to 10.55061, saving file to no_freeze_norm_data/best_epoch_18.ckpt\n",
      "\u001b[35mEpoch: \u001b[36m19/20 \u001b[35mTrain steps: \u001b[36m48 \u001b[35mVal steps: \u001b[36m48 \u001b[32m935.54s \u001b[35mloss:\u001b[94m 4.020809\u001b[35m acc:\u001b[94m 10.220903\u001b[35m val_loss:\u001b[94m 4.018319\u001b[35m val_acc:\u001b[94m 11.177052\u001b[0m\n",
      "Epoch 19: val_acc improved from 10.55061 to 11.17705, saving file to no_freeze_norm_data/best_epoch_19.ckpt\n",
      "\u001b[35mEpoch: \u001b[36m20/20 \u001b[35mTrain steps: \u001b[36m48 \u001b[35mVal steps: \u001b[36m48 \u001b[32m931.30s \u001b[35mloss:\u001b[94m 3.933890\u001b[35m acc:\u001b[94m 11.968348\u001b[35m val_loss:\u001b[94m 3.803543\u001b[35m val_acc:\u001b[94m 14.474118\u001b[0m\n",
      "Epoch 20: val_acc improved from 11.17705 to 14.47412, saving file to no_freeze_norm_data/best_epoch_20.ckpt\n",
      "Restoring model from no_freeze_norm_data/best_epoch_20.ckpt\n",
      "\u001b[35mTest steps: \u001b[36m47 \u001b[32m224.48s \u001b[35mtest_loss:\u001b[94m 4.972519\u001b[35m test_acc:\u001b[94m 4.266667\u001b[0m                                                 \n"
     ]
    }
   ],
   "source": [
    "optimizer = optim.Adam(resnet18.parameters(), lr=learning_rate)\n",
    "loss_function = nn.CrossEntropyLoss()\n",
    "callbacks = get_callbacks('no_freeze_norm_data')\n",
    "\n",
    "model = Model(resnet18, optimizer, loss_function, batch_metrics=['accuracy'],  device=device)\n",
    "\n",
    "model.fit_generator(train_loader, train_loader, epochs=n_epoch, callbacks=callbacks)\n",
    "\n",
    "test_loss, test_acc = model.evaluate_generator(test_loader)"
   ]
  },
  {
   "cell_type": "markdown",
   "metadata": {},
   "source": [
    "# Utiliser les valeurs de ImageNet pour normaliser les données"
   ]
  },
  {
   "cell_type": "code",
   "execution_count": 63,
   "metadata": {},
   "outputs": [],
   "source": [
    "normalize = get_normalize(False)\n",
    "\n",
    "train_data = ImageFolder(\n",
    "    train_path,\n",
    "    T.Compose([\n",
    "        T.Resize([224,224]),\n",
    "        T.ToTensor(),\n",
    "        normalize,\n",
    "    ]))\n",
    "\n",
    "test_data = ImageFolder(\n",
    "    test_path,\n",
    "    T.Compose([\n",
    "        T.Resize([224,224]),\n",
    "        T.ToTensor(),\n",
    "        normalize,\n",
    "    ]))\n",
    "\n",
    "train_loader = DataLoader(train_data, batch_size, num_workers=0, shuffle=True)\n",
    "test_loader = DataLoader(test_data, batch_size, num_workers=0)"
   ]
  },
  {
   "cell_type": "markdown",
   "metadata": {},
   "source": [
    "## Initialisation aléatoire par défaut"
   ]
  },
  {
   "cell_type": "code",
   "execution_count": 64,
   "metadata": {},
   "outputs": [],
   "source": [
    "resnet18 = models.resnet18()\n",
    "resnet18.fc = nn.Linear(resnet18.fc.in_features, num_classes)"
   ]
  },
  {
   "cell_type": "code",
   "execution_count": 65,
   "metadata": {},
   "outputs": [
    {
     "name": "stdout",
     "output_type": "stream",
     "text": [
      "\u001b[35mEpoch: \u001b[36m 1/20 \u001b[35mTrain steps: \u001b[36m48 \u001b[35mVal steps: \u001b[36m48 \u001b[32m965.24s \u001b[35mloss:\u001b[94m 5.794710\u001b[35m acc:\u001b[94m 0.626442\u001b[35m val_loss:\u001b[94m 5.683331\u001b[35m val_acc:\u001b[94m 0.824266\u001b[0m\n",
      "Epoch 1: val_acc improved from -inf to 0.82427, saving file to default_init_norm_imagenet/best_epoch_1.ckpt\n",
      "\u001b[35mEpoch: \u001b[36m 2/20 \u001b[35mTrain steps: \u001b[36m48 \u001b[35mVal steps: \u001b[36m48 \u001b[32m984.02s \u001b[35mloss:\u001b[94m 5.251793\u001b[35m acc:\u001b[94m 1.055061\u001b[35m val_loss:\u001b[94m 5.156649\u001b[35m val_acc:\u001b[94m 1.846357\u001b[0m\n",
      "Epoch 2: val_acc improved from 0.82427 to 1.84636, saving file to default_init_norm_imagenet/best_epoch_2.ckpt\n",
      "\u001b[35mEpoch: \u001b[36m 3/20 \u001b[35mTrain steps: \u001b[36m48 \u001b[35mVal steps: \u001b[36m48 \u001b[32m1068.85s \u001b[35mloss:\u001b[94m 5.153574\u001b[35m acc:\u001b[94m 1.648533\u001b[35m val_loss:\u001b[94m 5.038213\u001b[35m val_acc:\u001b[94m 2.077151\u001b[0m\n",
      "Epoch 3: val_acc improved from 1.84636 to 2.07715, saving file to default_init_norm_imagenet/best_epoch_3.ckpt\n",
      "\u001b[35mEpoch: \u001b[36m 4/20 \u001b[35mTrain steps: \u001b[36m48 \u001b[35mVal steps: \u001b[36m48 \u001b[32m985.35s \u001b[35mloss:\u001b[94m 5.074416\u001b[35m acc:\u001b[94m 1.648533\u001b[35m val_loss:\u001b[94m 4.965138\u001b[35m val_acc:\u001b[94m 2.307946\u001b[0m\n",
      "Epoch 4: val_acc improved from 2.07715 to 2.30795, saving file to default_init_norm_imagenet/best_epoch_4.ckpt\n",
      "\u001b[35mEpoch: \u001b[36m 5/20 \u001b[35mTrain steps: \u001b[36m48 \u001b[35mVal steps: \u001b[36m48 \u001b[32m985.51s \u001b[35mloss:\u001b[94m 5.001888\u001b[35m acc:\u001b[94m 2.011210\u001b[35m val_loss:\u001b[94m 4.866090\u001b[35m val_acc:\u001b[94m 2.604682\u001b[0m\n",
      "Epoch 5: val_acc improved from 2.30795 to 2.60468, saving file to default_init_norm_imagenet/best_epoch_5.ckpt\n",
      "\u001b[35mEpoch: \u001b[36m 6/20 \u001b[35mTrain steps: \u001b[36m48 \u001b[35mVal steps: \u001b[36m48 \u001b[32m995.40s \u001b[35mloss:\u001b[94m 4.945273\u001b[35m acc:\u001b[94m 2.274975\u001b[35m val_loss:\u001b[94m 4.822980\u001b[35m val_acc:\u001b[94m 3.165183\u001b[0m\n",
      "Epoch 6: val_acc improved from 2.60468 to 3.16518, saving file to default_init_norm_imagenet/best_epoch_6.ckpt\n",
      "\u001b[35mEpoch: \u001b[36m 7/20 \u001b[35mTrain steps: \u001b[36m48 \u001b[35mVal steps: \u001b[36m48 \u001b[32m1019.03s \u001b[35mloss:\u001b[94m 4.894406\u001b[35m acc:\u001b[94m 2.670623\u001b[35m val_loss:\u001b[94m 4.777504\u001b[35m val_acc:\u001b[94m 4.022420\u001b[0m\n",
      "Epoch 7: val_acc improved from 3.16518 to 4.02242, saving file to default_init_norm_imagenet/best_epoch_7.ckpt\n",
      "\u001b[35mEpoch: \u001b[36m 8/20 \u001b[35mTrain steps: \u001b[36m48 \u001b[35mVal steps: \u001b[36m48 \u001b[32m1099.46s \u001b[35mloss:\u001b[94m 4.845405\u001b[35m acc:\u001b[94m 2.769535\u001b[35m val_loss:\u001b[94m 4.867140\u001b[35m val_acc:\u001b[94m 3.461919\u001b[0m\n",
      "\u001b[35mEpoch: \u001b[36m 9/20 \u001b[35mTrain steps: \u001b[36m48 \u001b[35mVal steps: \u001b[36m48 \u001b[32m1199.07s \u001b[35mloss:\u001b[94m 4.807258\u001b[35m acc:\u001b[94m 3.000330\u001b[35m val_loss:\u001b[94m 4.651867\u001b[35m val_acc:\u001b[94m 4.747774\u001b[0m\n",
      "Epoch 9: val_acc improved from 4.02242 to 4.74777, saving file to default_init_norm_imagenet/best_epoch_9.ckpt\n",
      "\u001b[35mEpoch: \u001b[36m10/20 \u001b[35mTrain steps: \u001b[36m48 \u001b[35mVal steps: \u001b[36m48 \u001b[32m1104.29s \u001b[35mloss:\u001b[94m 4.752444\u001b[35m acc:\u001b[94m 3.099242\u001b[35m val_loss:\u001b[94m 4.602665\u001b[35m val_acc:\u001b[94m 4.714804\u001b[0m\n",
      "\u001b[35mEpoch: \u001b[36m11/20 \u001b[35mTrain steps: \u001b[36m48 \u001b[35mVal steps: \u001b[36m48 \u001b[32m946.11s \u001b[35mloss:\u001b[94m 4.707616\u001b[35m acc:\u001b[94m 3.923508\u001b[35m val_loss:\u001b[94m 4.556495\u001b[35m val_acc:\u001b[94m 5.044510\u001b[0m\n",
      "Epoch 11: val_acc improved from 4.74777 to 5.04451, saving file to default_init_norm_imagenet/best_epoch_11.ckpt\n",
      "\u001b[35mEpoch: \u001b[36m12/20 \u001b[35mTrain steps: \u001b[36m48 \u001b[35mVal steps: \u001b[36m48 \u001b[32m944.51s \u001b[35mloss:\u001b[94m 4.654624\u001b[35m acc:\u001b[94m 4.022420\u001b[35m val_loss:\u001b[94m 4.668811\u001b[35m val_acc:\u001b[94m 4.813716\u001b[0m\n",
      "\u001b[35mEpoch: \u001b[36m13/20 \u001b[35mTrain steps: \u001b[36m48 \u001b[35mVal steps: \u001b[36m48 \u001b[32m950.58s \u001b[35mloss:\u001b[94m 4.595106\u001b[35m acc:\u001b[94m 4.516980\u001b[35m val_loss:\u001b[94m 4.431680\u001b[35m val_acc:\u001b[94m 6.231454\u001b[0m\n",
      "Epoch 13: val_acc improved from 5.04451 to 6.23145, saving file to default_init_norm_imagenet/best_epoch_13.ckpt\n",
      "\u001b[35mEpoch: \u001b[36m14/20 \u001b[35mTrain steps: \u001b[36m48 \u001b[35mVal steps: \u001b[36m48 \u001b[32m948.10s \u001b[35mloss:\u001b[94m 4.520373\u001b[35m acc:\u001b[94m 5.605012\u001b[35m val_loss:\u001b[94m 4.387347\u001b[35m val_acc:\u001b[94m 7.583251\u001b[0m\n",
      "Epoch 14: val_acc improved from 6.23145 to 7.58325, saving file to default_init_norm_imagenet/best_epoch_14.ckpt\n",
      "\u001b[35mEpoch: \u001b[36m15/20 \u001b[35mTrain steps: \u001b[36m48 \u001b[35mVal steps: \u001b[36m48 \u001b[32m1000.31s \u001b[35mloss:\u001b[94m 4.438552\u001b[35m acc:\u001b[94m 5.572041\u001b[35m val_loss:\u001b[94m 4.180793\u001b[35m val_acc:\u001b[94m 9.660402\u001b[0m\n",
      "Epoch 15: val_acc improved from 7.58325 to 9.66040, saving file to default_init_norm_imagenet/best_epoch_15.ckpt\n",
      "\u001b[35mEpoch: \u001b[36m16/20 \u001b[35mTrain steps: \u001b[36m48 \u001b[35mVal steps: \u001b[36m48 \u001b[32m946.87s \u001b[35mloss:\u001b[94m 4.327365\u001b[35m acc:\u001b[94m 7.649192\u001b[35m val_loss:\u001b[94m 4.137110\u001b[35m val_acc:\u001b[94m 10.154962\u001b[0m\n",
      "Epoch 16: val_acc improved from 9.66040 to 10.15496, saving file to default_init_norm_imagenet/best_epoch_16.ckpt\n",
      "\u001b[35mEpoch: \u001b[36m17/20 \u001b[35mTrain steps: \u001b[36m48 \u001b[35mVal steps: \u001b[36m48 \u001b[32m1134.30s \u001b[35mloss:\u001b[94m 4.215657\u001b[35m acc:\u001b[94m 8.341576\u001b[35m val_loss:\u001b[94m 3.977542\u001b[35m val_acc:\u001b[94m 11.704583\u001b[0m\n",
      "Epoch 17: val_acc improved from 10.15496 to 11.70458, saving file to default_init_norm_imagenet/best_epoch_17.ckpt\n",
      "\u001b[35mEpoch: \u001b[36m18/20 \u001b[35mTrain steps: \u001b[36m48 \u001b[35mVal steps: \u001b[36m48 \u001b[32m1046.61s \u001b[35mloss:\u001b[94m 4.104585\u001b[35m acc:\u001b[94m 8.902077\u001b[35m val_loss:\u001b[94m 4.058462\u001b[35m val_acc:\u001b[94m 9.462578\u001b[0m\n",
      "\u001b[35mEpoch: \u001b[36m19/20 \u001b[35mTrain steps: \u001b[36m48 \u001b[35mVal steps: \u001b[36m48 \u001b[32m948.01s \u001b[35mloss:\u001b[94m 3.964633\u001b[35m acc:\u001b[94m 10.781405\u001b[35m val_loss:\u001b[94m 3.727299\u001b[35m val_acc:\u001b[94m 14.869766\u001b[0m\n",
      "Epoch 19: val_acc improved from 11.70458 to 14.86977, saving file to default_init_norm_imagenet/best_epoch_19.ckpt\n",
      "\u001b[35mEpoch: \u001b[36m20/20 \u001b[35mTrain steps: \u001b[36m48 \u001b[35mVal steps: \u001b[36m48 \u001b[32m1003.31s \u001b[35mloss:\u001b[94m 3.845229\u001b[35m acc:\u001b[94m 12.298055\u001b[35m val_loss:\u001b[94m 3.543317\u001b[35m val_acc:\u001b[94m 18.628421\u001b[0m\n",
      "Epoch 20: val_acc improved from 14.86977 to 18.62842, saving file to default_init_norm_imagenet/best_epoch_20.ckpt\n",
      "Restoring model from default_init_norm_imagenet/best_epoch_20.ckpt\n",
      "\u001b[35mTest steps: \u001b[36m47 \u001b[32m228.39s \u001b[35mtest_loss:\u001b[94m 5.263657\u001b[35m test_acc:\u001b[94m 3.766667\u001b[0m                                                 \n"
     ]
    }
   ],
   "source": [
    "optimizer = optim.Adam(resnet18.parameters(), lr=learning_rate)\n",
    "loss_function = nn.CrossEntropyLoss()\n",
    "callbacks = get_callbacks('default_init_norm_imagenet')\n",
    "\n",
    "model = Model(resnet18, optimizer, loss_function, batch_metrics=['accuracy'],  device=device)\n",
    "\n",
    "model.fit_generator(train_loader, train_loader, epochs=n_epoch, callbacks=callbacks)\n",
    "\n",
    "test_loss, test_acc = model.evaluate_generator(test_loader)"
   ]
  },
  {
   "cell_type": "markdown",
   "metadata": {},
   "source": [
    "## Modèle pré-entraîné, mais en gelant tous les paramètres de convolution"
   ]
  },
  {
   "cell_type": "code",
   "execution_count": 66,
   "metadata": {},
   "outputs": [],
   "source": [
    "resnet18 = models.resnet18(pretrained=True)\n",
    "resnet18.fc = nn.Linear(resnet18.fc.in_features, num_classes)\n",
    "freeze_conv(resnet18)"
   ]
  },
  {
   "cell_type": "code",
   "execution_count": 67,
   "metadata": {},
   "outputs": [
    {
     "name": "stdout",
     "output_type": "stream",
     "text": [
      "\u001b[35mEpoch: \u001b[36m 1/20 \u001b[35mTrain steps: \u001b[36m48 \u001b[35mVal steps: \u001b[36m48 \u001b[32m639.38s \u001b[35mloss:\u001b[94m 5.578110\u001b[35m acc:\u001b[94m 16.287504\u001b[35m val_loss:\u001b[94m 2.387543\u001b[35m val_acc:\u001b[94m 45.070887\u001b[0m\n",
      "Epoch 1: val_acc improved from -inf to 45.07089, saving file to freeze_conv_norm_imagenet/best_epoch_1.ckpt\n",
      "\u001b[35mEpoch: \u001b[36m 2/20 \u001b[35mTrain steps: \u001b[36m48 \u001b[35mVal steps: \u001b[36m48 \u001b[32m637.10s \u001b[35mloss:\u001b[94m 1.766285\u001b[35m acc:\u001b[94m 57.171118\u001b[35m val_loss:\u001b[94m 1.016591\u001b[35m val_acc:\u001b[94m 74.645565\u001b[0m\n",
      "Epoch 2: val_acc improved from 45.07089 to 74.64557, saving file to freeze_conv_norm_imagenet/best_epoch_2.ckpt\n",
      "\u001b[35mEpoch: \u001b[36m 3/20 \u001b[35mTrain steps: \u001b[36m48 \u001b[35mVal steps: \u001b[36m48 \u001b[32m642.66s \u001b[35mloss:\u001b[94m 0.840001\u001b[35m acc:\u001b[94m 78.272338\u001b[35m val_loss:\u001b[94m 0.322988\u001b[35m val_acc:\u001b[94m 92.383778\u001b[0m\n",
      "Epoch 3: val_acc improved from 74.64557 to 92.38378, saving file to freeze_conv_norm_imagenet/best_epoch_3.ckpt\n",
      "\u001b[35mEpoch: \u001b[36m 4/20 \u001b[35mTrain steps: \u001b[36m48 \u001b[35mVal steps: \u001b[36m48 \u001b[32m618.21s \u001b[35mloss:\u001b[94m 0.339522\u001b[35m acc:\u001b[94m 91.526541\u001b[35m val_loss:\u001b[94m 0.123208\u001b[35m val_acc:\u001b[94m 97.461259\u001b[0m\n",
      "Epoch 4: val_acc improved from 92.38378 to 97.46126, saving file to freeze_conv_norm_imagenet/best_epoch_4.ckpt\n",
      "\u001b[35mEpoch: \u001b[36m 5/20 \u001b[35mTrain steps: \u001b[36m48 \u001b[35mVal steps: \u001b[36m48 \u001b[32m609.77s \u001b[35mloss:\u001b[94m 0.153728\u001b[35m acc:\u001b[94m 96.340257\u001b[35m val_loss:\u001b[94m 0.050650\u001b[35m val_acc:\u001b[94m 99.109792\u001b[0m\n",
      "Epoch 5: val_acc improved from 97.46126 to 99.10979, saving file to freeze_conv_norm_imagenet/best_epoch_5.ckpt\n",
      "\u001b[35mEpoch: \u001b[36m 6/20 \u001b[35mTrain steps: \u001b[36m48 \u001b[35mVal steps: \u001b[36m48 \u001b[32m611.43s \u001b[35mloss:\u001b[94m 0.054500\u001b[35m acc:\u001b[94m 99.373558\u001b[35m val_loss:\u001b[94m 0.022483\u001b[35m val_acc:\u001b[94m 99.769205\u001b[0m\n",
      "Epoch 6: val_acc improved from 99.10979 to 99.76921, saving file to freeze_conv_norm_imagenet/best_epoch_6.ckpt\n",
      "\u001b[35mEpoch: \u001b[36m 7/20 \u001b[35mTrain steps: \u001b[36m48 \u001b[35mVal steps: \u001b[36m48 \u001b[32m612.19s \u001b[35mloss:\u001b[94m 0.020973\u001b[35m acc:\u001b[94m 99.703264\u001b[35m val_loss:\u001b[94m 0.012661\u001b[35m val_acc:\u001b[94m 99.901088\u001b[0m\n",
      "Epoch 7: val_acc improved from 99.76921 to 99.90109, saving file to freeze_conv_norm_imagenet/best_epoch_7.ckpt\n",
      "\u001b[35mEpoch: \u001b[36m 8/20 \u001b[35mTrain steps: \u001b[36m48 \u001b[35mVal steps: \u001b[36m48 \u001b[32m611.18s \u001b[35mloss:\u001b[94m 0.011199\u001b[35m acc:\u001b[94m 99.934059\u001b[35m val_loss:\u001b[94m 0.004643\u001b[35m val_acc:\u001b[94m 99.934059\u001b[0m\n",
      "Epoch 8: val_acc improved from 99.90109 to 99.93406, saving file to freeze_conv_norm_imagenet/best_epoch_8.ckpt\n",
      "\u001b[35mEpoch: \u001b[36m 9/20 \u001b[35mTrain steps: \u001b[36m48 \u001b[35mVal steps: \u001b[36m48 \u001b[32m612.43s \u001b[35mloss:\u001b[94m 0.009232\u001b[35m acc:\u001b[94m 99.901088\u001b[35m val_loss:\u001b[94m 0.004176\u001b[35m val_acc:\u001b[94m 99.934059\u001b[0m\n",
      "\u001b[35mEpoch: \u001b[36m10/20 \u001b[35mTrain steps: \u001b[36m48 \u001b[35mVal steps: \u001b[36m48 \u001b[32m612.63s \u001b[35mloss:\u001b[94m 0.007067\u001b[35m acc:\u001b[94m 99.901088\u001b[35m val_loss:\u001b[94m 0.003133\u001b[35m val_acc:\u001b[94m 99.934059\u001b[0m\n",
      "\u001b[35mEpoch: \u001b[36m11/20 \u001b[35mTrain steps: \u001b[36m48 \u001b[35mVal steps: \u001b[36m48 \u001b[32m617.28s \u001b[35mloss:\u001b[94m 0.005508\u001b[35m acc:\u001b[94m 99.868117\u001b[35m val_loss:\u001b[94m 0.003067\u001b[35m val_acc:\u001b[94m 99.934059\u001b[0m\n",
      "\u001b[35mEpoch: \u001b[36m12/20 \u001b[35mTrain steps: \u001b[36m48 \u001b[35mVal steps: \u001b[36m48 \u001b[32m614.13s \u001b[35mloss:\u001b[94m 0.005702\u001b[35m acc:\u001b[94m 99.901088\u001b[35m val_loss:\u001b[94m 0.002311\u001b[35m val_acc:\u001b[94m 99.934059\u001b[0m\n",
      "Epoch    12: reducing learning rate of group 0 to 5.0000e-03.\n",
      "\u001b[35mEpoch: \u001b[36m13/20 \u001b[35mTrain steps: \u001b[36m48 \u001b[35mVal steps: \u001b[36m48 \u001b[32m612.46s \u001b[35mloss:\u001b[94m 0.003917\u001b[35m acc:\u001b[94m 99.901088\u001b[35m val_loss:\u001b[94m 0.002301\u001b[35m val_acc:\u001b[94m 99.934059\u001b[0m\n",
      "\u001b[35mEpoch: \u001b[36m14/20 \u001b[35mTrain steps: \u001b[36m48 \u001b[35mVal steps: \u001b[36m48 \u001b[32m613.00s \u001b[35mloss:\u001b[94m 0.004171\u001b[35m acc:\u001b[94m 99.901088\u001b[35m val_loss:\u001b[94m 0.002044\u001b[35m val_acc:\u001b[94m 99.934059\u001b[0m\n",
      "\u001b[35mEpoch: \u001b[36m15/20 \u001b[35mTrain steps: \u001b[36m48 \u001b[35mVal steps: \u001b[36m48 \u001b[32m612.25s \u001b[35mloss:\u001b[94m 0.004478\u001b[35m acc:\u001b[94m 99.901088\u001b[35m val_loss:\u001b[94m 0.002140\u001b[35m val_acc:\u001b[94m 99.934059\u001b[0m\n",
      "\u001b[35mEpoch: \u001b[36m16/20 \u001b[35mTrain steps: \u001b[36m48 \u001b[35mVal steps: \u001b[36m48 \u001b[32m625.68s \u001b[35mloss:\u001b[94m 0.003512\u001b[35m acc:\u001b[94m 99.901088\u001b[35m val_loss:\u001b[94m 0.001935\u001b[35m val_acc:\u001b[94m 99.934059\u001b[0m\n",
      "Epoch    16: reducing learning rate of group 0 to 2.5000e-03.\n",
      "\u001b[35mEpoch: \u001b[36m17/20 \u001b[35mTrain steps: \u001b[36m48 \u001b[35mVal steps: \u001b[36m48 \u001b[32m624.62s \u001b[35mloss:\u001b[94m 0.002817\u001b[35m acc:\u001b[94m 99.934059\u001b[35m val_loss:\u001b[94m 0.001872\u001b[35m val_acc:\u001b[94m 99.934059\u001b[0m\n",
      "\u001b[35mEpoch: \u001b[36m18/20 \u001b[35mTrain steps: \u001b[36m48 \u001b[35mVal steps: \u001b[36m48 \u001b[32m616.39s \u001b[35mloss:\u001b[94m 0.002986\u001b[35m acc:\u001b[94m 99.901088\u001b[35m val_loss:\u001b[94m 0.001854\u001b[35m val_acc:\u001b[94m 99.934059\u001b[0m\n",
      "\u001b[35mEpoch: \u001b[36m19/20 \u001b[35mTrain steps: \u001b[36m48 \u001b[35mVal steps: \u001b[36m48 \u001b[32m613.79s \u001b[35mloss:\u001b[94m 0.003025\u001b[35m acc:\u001b[94m 99.934059\u001b[35m val_loss:\u001b[94m 0.001840\u001b[35m val_acc:\u001b[94m 99.934059\u001b[0m\n",
      "\u001b[35mEpoch: \u001b[36m20/20 \u001b[35mTrain steps: \u001b[36m48 \u001b[35mVal steps: \u001b[36m48 \u001b[32m612.59s \u001b[35mloss:\u001b[94m 0.002846\u001b[35m acc:\u001b[94m 99.868117\u001b[35m val_loss:\u001b[94m 0.001882\u001b[35m val_acc:\u001b[94m 99.934059\u001b[0m\n",
      "Epoch    20: reducing learning rate of group 0 to 1.2500e-03.\n",
      "Restoring model from freeze_conv_norm_imagenet/best_epoch_8.ckpt\n",
      "\u001b[35mTest steps: \u001b[36m47 \u001b[32m221.91s \u001b[35mtest_loss:\u001b[94m 2.465465\u001b[35m test_acc:\u001b[94m 47.766667\u001b[0m                                                \n"
     ]
    }
   ],
   "source": [
    "optimizer = optim.Adam(resnet18.parameters(), lr=learning_rate)\n",
    "loss_function = nn.CrossEntropyLoss()\n",
    "callbacks = get_callbacks('freeze_conv_norm_imagenet')\n",
    "\n",
    "model = Model(resnet18, optimizer, loss_function, batch_metrics=['accuracy'],  device=device)\n",
    "\n",
    "model.fit_generator(train_loader, train_loader, epochs=n_epoch, callbacks=callbacks)\n",
    "\n",
    "test_loss, test_acc = model.evaluate_generator(test_loader)"
   ]
  },
  {
   "cell_type": "markdown",
   "metadata": {},
   "source": [
    "## Modèle pré-entraîné, mais en gelant uniquement les paramètres dans \"layer1\""
   ]
  },
  {
   "cell_type": "code",
   "execution_count": 68,
   "metadata": {},
   "outputs": [],
   "source": [
    "resnet18 = models.resnet18(pretrained=True)\n",
    "resnet18.fc = nn.Linear(resnet18.fc.in_features, num_classes)\n",
    "freeze_layer1(resnet18)"
   ]
  },
  {
   "cell_type": "code",
   "execution_count": 69,
   "metadata": {},
   "outputs": [
    {
     "name": "stdout",
     "output_type": "stream",
     "text": [
      "\u001b[35mEpoch: \u001b[36m 1/20 \u001b[35mTrain steps: \u001b[36m48 \u001b[35mVal steps: \u001b[36m48 \u001b[32m900.71s \u001b[35mloss:\u001b[94m 6.548462\u001b[35m acc:\u001b[94m 0.725354\u001b[35m val_loss:\u001b[94m 5.358982\u001b[35m val_acc:\u001b[94m 0.527530\u001b[0m\n",
      "Epoch 1: val_acc improved from -inf to 0.52753, saving file to freeze_layer1_norm_imagenet/best_epoch_1.ckpt\n",
      "\u001b[35mEpoch: \u001b[36m 2/20 \u001b[35mTrain steps: \u001b[36m48 \u001b[35mVal steps: \u001b[36m48 \u001b[32m881.29s \u001b[35mloss:\u001b[94m 5.353803\u001b[35m acc:\u001b[94m 0.527530\u001b[35m val_loss:\u001b[94m 5.862512\u001b[35m val_acc:\u001b[94m 0.923178\u001b[0m\n",
      "Epoch 2: val_acc improved from 0.52753 to 0.92318, saving file to freeze_layer1_norm_imagenet/best_epoch_2.ckpt\n",
      "\u001b[35mEpoch: \u001b[36m 3/20 \u001b[35mTrain steps: \u001b[36m48 \u001b[35mVal steps: \u001b[36m48 \u001b[32m877.12s \u001b[35mloss:\u001b[94m 5.259434\u001b[35m acc:\u001b[94m 0.857237\u001b[35m val_loss:\u001b[94m 5.384838\u001b[35m val_acc:\u001b[94m 0.989120\u001b[0m\n",
      "Epoch 3: val_acc improved from 0.92318 to 0.98912, saving file to freeze_layer1_norm_imagenet/best_epoch_3.ckpt\n",
      "\u001b[35mEpoch: \u001b[36m 4/20 \u001b[35mTrain steps: \u001b[36m48 \u001b[35mVal steps: \u001b[36m48 \u001b[32m879.72s \u001b[35mloss:\u001b[94m 5.234078\u001b[35m acc:\u001b[94m 0.989120\u001b[35m val_loss:\u001b[94m 5.208830\u001b[35m val_acc:\u001b[94m 1.417738\u001b[0m\n",
      "Epoch 4: val_acc improved from 0.98912 to 1.41774, saving file to freeze_layer1_norm_imagenet/best_epoch_4.ckpt\n",
      "\u001b[35mEpoch: \u001b[36m 5/20 \u001b[35mTrain steps: \u001b[36m48 \u001b[35mVal steps: \u001b[36m48 \u001b[32m877.15s \u001b[35mloss:\u001b[94m 5.180451\u001b[35m acc:\u001b[94m 0.923178\u001b[35m val_loss:\u001b[94m 5.114187\u001b[35m val_acc:\u001b[94m 1.516650\u001b[0m\n",
      "Epoch 5: val_acc improved from 1.41774 to 1.51665, saving file to freeze_layer1_norm_imagenet/best_epoch_5.ckpt\n",
      "\u001b[35mEpoch: \u001b[36m 6/20 \u001b[35mTrain steps: \u001b[36m48 \u001b[35mVal steps: \u001b[36m48 \u001b[32m879.41s \u001b[35mloss:\u001b[94m 5.102887\u001b[35m acc:\u001b[94m 1.055061\u001b[35m val_loss:\u001b[94m 5.116086\u001b[35m val_acc:\u001b[94m 1.813386\u001b[0m\n",
      "Epoch 6: val_acc improved from 1.51665 to 1.81339, saving file to freeze_layer1_norm_imagenet/best_epoch_6.ckpt\n",
      "\u001b[35mEpoch: \u001b[36m 7/20 \u001b[35mTrain steps: \u001b[36m48 \u001b[35mVal steps: \u001b[36m48 \u001b[32m877.89s \u001b[35mloss:\u001b[94m 5.023318\u001b[35m acc:\u001b[94m 1.747445\u001b[35m val_loss:\u001b[94m 5.073424\u001b[35m val_acc:\u001b[94m 1.945269\u001b[0m\n",
      "Epoch 7: val_acc improved from 1.81339 to 1.94527, saving file to freeze_layer1_norm_imagenet/best_epoch_7.ckpt\n",
      "\u001b[35mEpoch: \u001b[36m 8/20 \u001b[35mTrain steps: \u001b[36m48 \u001b[35mVal steps: \u001b[36m48 \u001b[32m878.46s \u001b[35mloss:\u001b[94m 4.950373\u001b[35m acc:\u001b[94m 1.714474\u001b[35m val_loss:\u001b[94m 4.966958\u001b[35m val_acc:\u001b[94m 2.044181\u001b[0m\n",
      "Epoch 8: val_acc improved from 1.94527 to 2.04418, saving file to freeze_layer1_norm_imagenet/best_epoch_8.ckpt\n",
      "\u001b[35mEpoch: \u001b[36m 9/20 \u001b[35mTrain steps: \u001b[36m48 \u001b[35mVal steps: \u001b[36m48 \u001b[32m878.06s \u001b[35mloss:\u001b[94m 4.886859\u001b[35m acc:\u001b[94m 1.912298\u001b[35m val_loss:\u001b[94m 5.207924\u001b[35m val_acc:\u001b[94m 2.307946\u001b[0m\n",
      "Epoch 9: val_acc improved from 2.04418 to 2.30795, saving file to freeze_layer1_norm_imagenet/best_epoch_9.ckpt\n",
      "\u001b[35mEpoch: \u001b[36m10/20 \u001b[35mTrain steps: \u001b[36m48 \u001b[35mVal steps: \u001b[36m48 \u001b[32m879.52s \u001b[35mloss:\u001b[94m 4.818183\u001b[35m acc:\u001b[94m 2.868447\u001b[35m val_loss:\u001b[94m 4.753273\u001b[35m val_acc:\u001b[94m 3.264095\u001b[0m\n",
      "Epoch 10: val_acc improved from 2.30795 to 3.26409, saving file to freeze_layer1_norm_imagenet/best_epoch_10.ckpt\n",
      "\u001b[35mEpoch: \u001b[36m11/20 \u001b[35mTrain steps: \u001b[36m48 \u001b[35mVal steps: \u001b[36m48 \u001b[32m878.42s \u001b[35mloss:\u001b[94m 4.790777\u001b[35m acc:\u001b[94m 3.099242\u001b[35m val_loss:\u001b[94m 4.737774\u001b[35m val_acc:\u001b[94m 4.055391\u001b[0m\n",
      "Epoch 11: val_acc improved from 3.26409 to 4.05539, saving file to freeze_layer1_norm_imagenet/best_epoch_11.ckpt\n",
      "\u001b[35mEpoch: \u001b[36m12/20 \u001b[35mTrain steps: \u001b[36m48 \u001b[35mVal steps: \u001b[36m48 \u001b[32m878.88s \u001b[35mloss:\u001b[94m 4.734090\u001b[35m acc:\u001b[94m 3.461919\u001b[35m val_loss:\u001b[94m 4.664346\u001b[35m val_acc:\u001b[94m 4.319156\u001b[0m\n",
      "Epoch 12: val_acc improved from 4.05539 to 4.31916, saving file to freeze_layer1_norm_imagenet/best_epoch_12.ckpt\n",
      "\u001b[35mEpoch: \u001b[36m13/20 \u001b[35mTrain steps: \u001b[36m48 \u001b[35mVal steps: \u001b[36m48 \u001b[32m877.49s \u001b[35mloss:\u001b[94m 4.687478\u001b[35m acc:\u001b[94m 3.725684\u001b[35m val_loss:\u001b[94m 4.704149\u001b[35m val_acc:\u001b[94m 3.923508\u001b[0m\n",
      "\u001b[35mEpoch: \u001b[36m14/20 \u001b[35mTrain steps: \u001b[36m48 \u001b[35mVal steps: \u001b[36m48 \u001b[32m878.05s \u001b[35mloss:\u001b[94m 4.574364\u001b[35m acc:\u001b[94m 4.451039\u001b[35m val_loss:\u001b[94m 4.604786\u001b[35m val_acc:\u001b[94m 4.912628\u001b[0m\n",
      "Epoch 14: val_acc improved from 4.31916 to 4.91263, saving file to freeze_layer1_norm_imagenet/best_epoch_14.ckpt\n",
      "\u001b[35mEpoch: \u001b[36m15/20 \u001b[35mTrain steps: \u001b[36m48 \u001b[35mVal steps: \u001b[36m48 \u001b[32m879.38s \u001b[35mloss:\u001b[94m 4.488929\u001b[35m acc:\u001b[94m 4.681833\u001b[35m val_loss:\u001b[94m 4.362127\u001b[35m val_acc:\u001b[94m 7.616222\u001b[0m\n",
      "Epoch 15: val_acc improved from 4.91263 to 7.61622, saving file to freeze_layer1_norm_imagenet/best_epoch_15.ckpt\n",
      "\u001b[35mEpoch: \u001b[36m16/20 \u001b[35mTrain steps: \u001b[36m48 \u001b[35mVal steps: \u001b[36m48 \u001b[32m879.77s \u001b[35mloss:\u001b[94m 4.377559\u001b[35m acc:\u001b[94m 5.835806\u001b[35m val_loss:\u001b[94m 4.222783\u001b[35m val_acc:\u001b[94m 8.110781\u001b[0m\n",
      "Epoch 16: val_acc improved from 7.61622 to 8.11078, saving file to freeze_layer1_norm_imagenet/best_epoch_16.ckpt\n",
      "\u001b[35mEpoch: \u001b[36m17/20 \u001b[35mTrain steps: \u001b[36m48 \u001b[35mVal steps: \u001b[36m48 \u001b[32m879.35s \u001b[35mloss:\u001b[94m 4.277289\u001b[35m acc:\u001b[94m 6.857896\u001b[35m val_loss:\u001b[94m 4.225145\u001b[35m val_acc:\u001b[94m 9.297725\u001b[0m\n",
      "Epoch 17: val_acc improved from 8.11078 to 9.29773, saving file to freeze_layer1_norm_imagenet/best_epoch_17.ckpt\n",
      "\u001b[35mEpoch: \u001b[36m18/20 \u001b[35mTrain steps: \u001b[36m48 \u001b[35mVal steps: \u001b[36m48 \u001b[32m880.67s \u001b[35mloss:\u001b[94m 4.164011\u001b[35m acc:\u001b[94m 8.110781\u001b[35m val_loss:\u001b[94m 4.180348\u001b[35m val_acc:\u001b[94m 9.363666\u001b[0m\n",
      "Epoch 18: val_acc improved from 9.29773 to 9.36367, saving file to freeze_layer1_norm_imagenet/best_epoch_18.ckpt\n",
      "\u001b[35mEpoch: \u001b[36m19/20 \u001b[35mTrain steps: \u001b[36m48 \u001b[35mVal steps: \u001b[36m48 \u001b[32m878.18s \u001b[35mloss:\u001b[94m 4.033430\u001b[35m acc:\u001b[94m 9.825256\u001b[35m val_loss:\u001b[94m 3.890021\u001b[35m val_acc:\u001b[94m 11.407847\u001b[0m\n",
      "Epoch 19: val_acc improved from 9.36367 to 11.40785, saving file to freeze_layer1_norm_imagenet/best_epoch_19.ckpt\n",
      "\u001b[35mEpoch: \u001b[36m20/20 \u001b[35mTrain steps: \u001b[36m48 \u001b[35mVal steps: \u001b[36m48 \u001b[32m878.99s \u001b[35mloss:\u001b[94m 3.842041\u001b[35m acc:\u001b[94m 12.100231\u001b[35m val_loss:\u001b[94m 3.839107\u001b[35m val_acc:\u001b[94m 13.221233\u001b[0m\n",
      "Epoch 20: val_acc improved from 11.40785 to 13.22123, saving file to freeze_layer1_norm_imagenet/best_epoch_20.ckpt\n",
      "Restoring model from freeze_layer1_norm_imagenet/best_epoch_20.ckpt\n",
      "\u001b[35mTest steps: \u001b[36m47 \u001b[32m219.10s \u001b[35mtest_loss:\u001b[94m 4.904421\u001b[35m test_acc:\u001b[94m 5.200000\u001b[0m                                                 \n"
     ]
    }
   ],
   "source": [
    "optimizer = optim.Adam(resnet18.parameters(), lr=learning_rate)\n",
    "loss_function = nn.CrossEntropyLoss()\n",
    "callbacks = get_callbacks('freeze_layer1_norm_imagenet')\n",
    "\n",
    "model = Model(resnet18, optimizer, loss_function, batch_metrics=['accuracy'],  device=device)\n",
    "\n",
    "model.fit_generator(train_loader, train_loader, epochs=n_epoch, callbacks=callbacks)\n",
    "\n",
    "test_loss, test_acc = model.evaluate_generator(test_loader)"
   ]
  },
  {
   "cell_type": "markdown",
   "metadata": {},
   "source": [
    "## modèle pré-entraîné, mais en laissant tous les paramètres se faire ajuster par backprop"
   ]
  },
  {
   "cell_type": "code",
   "execution_count": 70,
   "metadata": {},
   "outputs": [],
   "source": [
    "resnet18 = models.resnet18(pretrained=True)\n",
    "resnet18.fc = nn.Linear(resnet18.fc.in_features, num_classes)"
   ]
  },
  {
   "cell_type": "code",
   "execution_count": 71,
   "metadata": {},
   "outputs": [
    {
     "name": "stdout",
     "output_type": "stream",
     "text": [
      "\u001b[35mEpoch: \u001b[36m 1/20 \u001b[35mTrain steps: \u001b[36m48 \u001b[35mVal steps: \u001b[36m48 \u001b[32m953.42s \u001b[35mloss:\u001b[94m 6.475927\u001b[35m acc:\u001b[94m 0.725354\u001b[35m val_loss:\u001b[94m 5.300955\u001b[35m val_acc:\u001b[94m 0.692384\u001b[0m\n",
      "Epoch 1: val_acc improved from -inf to 0.69238, saving file to no_freeze_norm_imagenet/best_epoch_1.ckpt\n",
      "\u001b[35mEpoch: \u001b[36m 2/20 \u001b[35mTrain steps: \u001b[36m48 \u001b[35mVal steps: \u001b[36m48 \u001b[32m924.65s \u001b[35mloss:\u001b[94m 5.315629\u001b[35m acc:\u001b[94m 0.692384\u001b[35m val_loss:\u001b[94m 5.566242\u001b[35m val_acc:\u001b[94m 1.121002\u001b[0m\n",
      "Epoch 2: val_acc improved from 0.69238 to 1.12100, saving file to no_freeze_norm_imagenet/best_epoch_2.ckpt\n",
      "\u001b[35mEpoch: \u001b[36m 3/20 \u001b[35mTrain steps: \u001b[36m48 \u001b[35mVal steps: \u001b[36m48 \u001b[32m924.88s \u001b[35mloss:\u001b[94m 5.239985\u001b[35m acc:\u001b[94m 1.121002\u001b[35m val_loss:\u001b[94m 5.247614\u001b[35m val_acc:\u001b[94m 2.011210\u001b[0m\n",
      "Epoch 3: val_acc improved from 1.12100 to 2.01121, saving file to no_freeze_norm_imagenet/best_epoch_3.ckpt\n",
      "\u001b[35mEpoch: \u001b[36m 4/20 \u001b[35mTrain steps: \u001b[36m48 \u001b[35mVal steps: \u001b[36m48 \u001b[32m923.80s \u001b[35mloss:\u001b[94m 5.133133\u001b[35m acc:\u001b[94m 1.516650\u001b[35m val_loss:\u001b[94m 5.007825\u001b[35m val_acc:\u001b[94m 2.406858\u001b[0m\n",
      "Epoch 4: val_acc improved from 2.01121 to 2.40686, saving file to no_freeze_norm_imagenet/best_epoch_4.ckpt\n",
      "\u001b[35mEpoch: \u001b[36m 5/20 \u001b[35mTrain steps: \u001b[36m48 \u001b[35mVal steps: \u001b[36m48 \u001b[32m950.07s \u001b[35mloss:\u001b[94m 4.995890\u001b[35m acc:\u001b[94m 2.176063\u001b[35m val_loss:\u001b[94m 4.947532\u001b[35m val_acc:\u001b[94m 2.769535\u001b[0m\n",
      "Epoch 5: val_acc improved from 2.40686 to 2.76954, saving file to no_freeze_norm_imagenet/best_epoch_5.ckpt\n",
      "\u001b[35mEpoch: \u001b[36m 6/20 \u001b[35mTrain steps: \u001b[36m48 \u001b[35mVal steps: \u001b[36m48 \u001b[32m965.68s \u001b[35mloss:\u001b[94m 4.887950\u001b[35m acc:\u001b[94m 2.505770\u001b[35m val_loss:\u001b[94m 4.802940\u001b[35m val_acc:\u001b[94m 2.769535\u001b[0m\n",
      "\u001b[35mEpoch: \u001b[36m 7/20 \u001b[35mTrain steps: \u001b[36m48 \u001b[35mVal steps: \u001b[36m48 \u001b[32m951.81s \u001b[35mloss:\u001b[94m 4.789102\u001b[35m acc:\u001b[94m 2.637652\u001b[35m val_loss:\u001b[94m 4.741801\u001b[35m val_acc:\u001b[94m 3.297066\u001b[0m\n",
      "Epoch 7: val_acc improved from 2.76954 to 3.29707, saving file to no_freeze_norm_imagenet/best_epoch_7.ckpt\n",
      "\u001b[35mEpoch: \u001b[36m 8/20 \u001b[35mTrain steps: \u001b[36m48 \u001b[35mVal steps: \u001b[36m48 \u001b[32m977.22s \u001b[35mloss:\u001b[94m 4.741464\u001b[35m acc:\u001b[94m 3.165183\u001b[35m val_loss:\u001b[94m 4.627011\u001b[35m val_acc:\u001b[94m 3.494890\u001b[0m\n",
      "Epoch 8: val_acc improved from 3.29707 to 3.49489, saving file to no_freeze_norm_imagenet/best_epoch_8.ckpt\n",
      "\u001b[35mEpoch: \u001b[36m 9/20 \u001b[35mTrain steps: \u001b[36m48 \u001b[35mVal steps: \u001b[36m48 \u001b[32m964.45s \u001b[35mloss:\u001b[94m 4.649573\u001b[35m acc:\u001b[94m 3.692713\u001b[35m val_loss:\u001b[94m 4.629709\u001b[35m val_acc:\u001b[94m 4.121332\u001b[0m\n",
      "Epoch 9: val_acc improved from 3.49489 to 4.12133, saving file to no_freeze_norm_imagenet/best_epoch_9.ckpt\n",
      "\u001b[35mEpoch: \u001b[36m10/20 \u001b[35mTrain steps: \u001b[36m48 \u001b[35mVal steps: \u001b[36m48 \u001b[32m996.85s \u001b[35mloss:\u001b[94m 4.590253\u001b[35m acc:\u001b[94m 4.154303\u001b[35m val_loss:\u001b[94m 4.477287\u001b[35m val_acc:\u001b[94m 5.143422\u001b[0m\n",
      "Epoch 10: val_acc improved from 4.12133 to 5.14342, saving file to no_freeze_norm_imagenet/best_epoch_10.ckpt\n",
      "\u001b[35mEpoch: \u001b[36m11/20 \u001b[35mTrain steps: \u001b[36m48 \u001b[35mVal steps: \u001b[36m48 \u001b[32m962.44s \u001b[35mloss:\u001b[94m 4.531973\u001b[35m acc:\u001b[94m 4.879657\u001b[35m val_loss:\u001b[94m 4.426924\u001b[35m val_acc:\u001b[94m 6.000659\u001b[0m\n",
      "Epoch 11: val_acc improved from 5.14342 to 6.00066, saving file to no_freeze_norm_imagenet/best_epoch_11.ckpt\n",
      "\u001b[35mEpoch: \u001b[36m12/20 \u001b[35mTrain steps: \u001b[36m48 \u001b[35mVal steps: \u001b[36m48 \u001b[32m963.52s \u001b[35mloss:\u001b[94m 4.425650\u001b[35m acc:\u001b[94m 5.506100\u001b[35m val_loss:\u001b[94m 4.339827\u001b[35m val_acc:\u001b[94m 7.352456\u001b[0m\n",
      "Epoch 12: val_acc improved from 6.00066 to 7.35246, saving file to no_freeze_norm_imagenet/best_epoch_12.ckpt\n",
      "\u001b[35mEpoch: \u001b[36m13/20 \u001b[35mTrain steps: \u001b[36m48 \u001b[35mVal steps: \u001b[36m48 \u001b[32m972.80s \u001b[35mloss:\u001b[94m 4.329647\u001b[35m acc:\u001b[94m 6.429278\u001b[35m val_loss:\u001b[94m 4.150762\u001b[35m val_acc:\u001b[94m 7.945928\u001b[0m\n",
      "Epoch 13: val_acc improved from 7.35246 to 7.94593, saving file to no_freeze_norm_imagenet/best_epoch_13.ckpt\n",
      "\u001b[35mEpoch: \u001b[36m14/20 \u001b[35mTrain steps: \u001b[36m48 \u001b[35mVal steps: \u001b[36m48 \u001b[32m971.76s \u001b[35mloss:\u001b[94m 4.248171\u001b[35m acc:\u001b[94m 6.791955\u001b[35m val_loss:\u001b[94m 4.181915\u001b[35m val_acc:\u001b[94m 7.945928\u001b[0m\n",
      "\u001b[35mEpoch: \u001b[36m15/20 \u001b[35mTrain steps: \u001b[36m48 \u001b[35mVal steps: \u001b[36m48 \u001b[32m956.36s \u001b[35mloss:\u001b[94m 4.139815\u001b[35m acc:\u001b[94m 7.978899\u001b[35m val_loss:\u001b[94m 4.041607\u001b[35m val_acc:\u001b[94m 9.429608\u001b[0m\n",
      "Epoch 15: val_acc improved from 7.94593 to 9.42961, saving file to no_freeze_norm_imagenet/best_epoch_15.ckpt\n",
      "\u001b[35mEpoch: \u001b[36m16/20 \u001b[35mTrain steps: \u001b[36m48 \u001b[35mVal steps: \u001b[36m48 \u001b[32m961.52s \u001b[35mloss:\u001b[94m 4.039204\u001b[35m acc:\u001b[94m 9.066930\u001b[35m val_loss:\u001b[94m 3.978128\u001b[35m val_acc:\u001b[94m 10.089021\u001b[0m\n",
      "Epoch 16: val_acc improved from 9.42961 to 10.08902, saving file to no_freeze_norm_imagenet/best_epoch_16.ckpt\n",
      "\u001b[35mEpoch: \u001b[36m17/20 \u001b[35mTrain steps: \u001b[36m48 \u001b[35mVal steps: \u001b[36m48 \u001b[32m959.69s \u001b[35mloss:\u001b[94m 3.947408\u001b[35m acc:\u001b[94m 10.880317\u001b[35m val_loss:\u001b[94m 3.734706\u001b[35m val_acc:\u001b[94m 12.462908\u001b[0m\n",
      "Epoch 17: val_acc improved from 10.08902 to 12.46291, saving file to no_freeze_norm_imagenet/best_epoch_17.ckpt\n",
      "\u001b[35mEpoch: \u001b[36m18/20 \u001b[35mTrain steps: \u001b[36m48 \u001b[35mVal steps: \u001b[36m48 \u001b[32m994.24s \u001b[35mloss:\u001b[94m 3.794036\u001b[35m acc:\u001b[94m 12.067260\u001b[35m val_loss:\u001b[94m 3.701776\u001b[35m val_acc:\u001b[94m 12.924497\u001b[0m\n",
      "Epoch 18: val_acc improved from 12.46291 to 12.92450, saving file to no_freeze_norm_imagenet/best_epoch_18.ckpt\n",
      "\u001b[35mEpoch: \u001b[36m19/20 \u001b[35mTrain steps: \u001b[36m48 \u001b[35mVal steps: \u001b[36m48 \u001b[32m955.60s \u001b[35mloss:\u001b[94m 3.704276\u001b[35m acc:\u001b[94m 13.386086\u001b[35m val_loss:\u001b[94m 3.497026\u001b[35m val_acc:\u001b[94m 17.342565\u001b[0m\n",
      "Epoch 19: val_acc improved from 12.92450 to 17.34257, saving file to no_freeze_norm_imagenet/best_epoch_19.ckpt\n",
      "\u001b[35mEpoch: \u001b[36m20/20 \u001b[35mTrain steps: \u001b[36m48 \u001b[35mVal steps: \u001b[36m48 \u001b[32m965.69s \u001b[35mloss:\u001b[94m 3.534146\u001b[35m acc:\u001b[94m 16.584240\u001b[35m val_loss:\u001b[94m 3.307166\u001b[35m val_acc:\u001b[94m 20.145071\u001b[0m\n",
      "Epoch 20: val_acc improved from 17.34257 to 20.14507, saving file to no_freeze_norm_imagenet/best_epoch_20.ckpt\n",
      "Restoring model from no_freeze_norm_imagenet/best_epoch_20.ckpt\n",
      "\u001b[35mTest steps: \u001b[36m47 \u001b[32m227.46s \u001b[35mtest_loss:\u001b[94m 5.110881\u001b[35m test_acc:\u001b[94m 7.100000\u001b[0m                                                 \n"
     ]
    }
   ],
   "source": [
    "optimizer = optim.Adam(resnet18.parameters(), lr=learning_rate)\n",
    "loss_function = nn.CrossEntropyLoss()\n",
    "callbacks = get_callbacks('no_freeze_norm_imagenet')\n",
    "\n",
    "model = Model(resnet18, optimizer, loss_function, batch_metrics=['accuracy'],  device=device)\n",
    "\n",
    "model.fit_generator(train_loader, train_loader, epochs=n_epoch, callbacks=callbacks)\n",
    "\n",
    "test_loss, test_acc = model.evaluate_generator(test_loader)"
   ]
  },
  {
   "cell_type": "code",
   "execution_count": null,
   "metadata": {},
   "outputs": [],
   "source": []
  }
 ],
 "metadata": {
  "kernelspec": {
   "display_name": "Python 3",
   "language": "python",
   "name": "python3"
  },
  "language_info": {
   "codemirror_mode": {
    "name": "ipython",
    "version": 3
   },
   "file_extension": ".py",
   "mimetype": "text/x-python",
   "name": "python",
   "nbconvert_exporter": "python",
   "pygments_lexer": "ipython3",
   "version": "3.7.6"
  }
 },
 "nbformat": 4,
 "nbformat_minor": 4
}
